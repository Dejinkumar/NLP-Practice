{
 "cells": [
  {
   "cell_type": "code",
   "execution_count": 1,
   "id": "02a1c081",
   "metadata": {},
   "outputs": [],
   "source": [
    "import pandas as pd\n",
    "import numpy as np\n",
    "from sklearn.model_selection import train_test_split\n",
    "from sklearn.feature_extraction.text import CountVectorizer\n",
    "from sklearn.naive_bayes import MultinomialNB\n",
    "from sklearn.metrics import classification_report\n",
    "from sklearn.pipeline import Pipeline\n",
    "from sklearn.ensemble import RandomForestClassifier\n",
    "from  sklearn.neighbors import KNeighborsClassifier"
   ]
  },
  {
   "cell_type": "code",
   "execution_count": 2,
   "id": "ee2f78e1",
   "metadata": {},
   "outputs": [],
   "source": [
    "df=pd.read_csv(\"spam.csv\")"
   ]
  },
  {
   "cell_type": "code",
   "execution_count": 3,
   "id": "0411d68c",
   "metadata": {},
   "outputs": [
    {
     "data": {
      "text/html": [
       "<div>\n",
       "<style scoped>\n",
       "    .dataframe tbody tr th:only-of-type {\n",
       "        vertical-align: middle;\n",
       "    }\n",
       "\n",
       "    .dataframe tbody tr th {\n",
       "        vertical-align: top;\n",
       "    }\n",
       "\n",
       "    .dataframe thead th {\n",
       "        text-align: right;\n",
       "    }\n",
       "</style>\n",
       "<table border=\"1\" class=\"dataframe\">\n",
       "  <thead>\n",
       "    <tr style=\"text-align: right;\">\n",
       "      <th></th>\n",
       "      <th>Category</th>\n",
       "      <th>Message</th>\n",
       "    </tr>\n",
       "  </thead>\n",
       "  <tbody>\n",
       "    <tr>\n",
       "      <th>0</th>\n",
       "      <td>ham</td>\n",
       "      <td>Go until jurong point, crazy.. Available only ...</td>\n",
       "    </tr>\n",
       "    <tr>\n",
       "      <th>1</th>\n",
       "      <td>ham</td>\n",
       "      <td>Ok lar... Joking wif u oni...</td>\n",
       "    </tr>\n",
       "    <tr>\n",
       "      <th>2</th>\n",
       "      <td>spam</td>\n",
       "      <td>Free entry in 2 a wkly comp to win FA Cup fina...</td>\n",
       "    </tr>\n",
       "    <tr>\n",
       "      <th>3</th>\n",
       "      <td>ham</td>\n",
       "      <td>U dun say so early hor... U c already then say...</td>\n",
       "    </tr>\n",
       "    <tr>\n",
       "      <th>4</th>\n",
       "      <td>ham</td>\n",
       "      <td>Nah I don't think he goes to usf, he lives aro...</td>\n",
       "    </tr>\n",
       "  </tbody>\n",
       "</table>\n",
       "</div>"
      ],
      "text/plain": [
       "  Category                                            Message\n",
       "0      ham  Go until jurong point, crazy.. Available only ...\n",
       "1      ham                      Ok lar... Joking wif u oni...\n",
       "2     spam  Free entry in 2 a wkly comp to win FA Cup fina...\n",
       "3      ham  U dun say so early hor... U c already then say...\n",
       "4      ham  Nah I don't think he goes to usf, he lives aro..."
      ]
     },
     "execution_count": 3,
     "metadata": {},
     "output_type": "execute_result"
    }
   ],
   "source": [
    "df.head()"
   ]
  },
  {
   "cell_type": "code",
   "execution_count": 4,
   "id": "801b929d",
   "metadata": {},
   "outputs": [
    {
     "data": {
      "text/plain": [
       "ham     4825\n",
       "spam     747\n",
       "Name: Category, dtype: int64"
      ]
     },
     "execution_count": 4,
     "metadata": {},
     "output_type": "execute_result"
    }
   ],
   "source": [
    "df.Category.value_counts()"
   ]
  },
  {
   "cell_type": "code",
   "execution_count": 5,
   "id": "9a194e48",
   "metadata": {},
   "outputs": [],
   "source": [
    "df['spam']=df['Category'].apply(lambda x:1 if x=='spam' else 0)"
   ]
  },
  {
   "cell_type": "code",
   "execution_count": 6,
   "id": "d42cbd6d",
   "metadata": {},
   "outputs": [
    {
     "data": {
      "text/html": [
       "<div>\n",
       "<style scoped>\n",
       "    .dataframe tbody tr th:only-of-type {\n",
       "        vertical-align: middle;\n",
       "    }\n",
       "\n",
       "    .dataframe tbody tr th {\n",
       "        vertical-align: top;\n",
       "    }\n",
       "\n",
       "    .dataframe thead th {\n",
       "        text-align: right;\n",
       "    }\n",
       "</style>\n",
       "<table border=\"1\" class=\"dataframe\">\n",
       "  <thead>\n",
       "    <tr style=\"text-align: right;\">\n",
       "      <th></th>\n",
       "      <th>Category</th>\n",
       "      <th>Message</th>\n",
       "      <th>spam</th>\n",
       "    </tr>\n",
       "  </thead>\n",
       "  <tbody>\n",
       "    <tr>\n",
       "      <th>0</th>\n",
       "      <td>ham</td>\n",
       "      <td>Go until jurong point, crazy.. Available only ...</td>\n",
       "      <td>0</td>\n",
       "    </tr>\n",
       "    <tr>\n",
       "      <th>1</th>\n",
       "      <td>ham</td>\n",
       "      <td>Ok lar... Joking wif u oni...</td>\n",
       "      <td>0</td>\n",
       "    </tr>\n",
       "    <tr>\n",
       "      <th>2</th>\n",
       "      <td>spam</td>\n",
       "      <td>Free entry in 2 a wkly comp to win FA Cup fina...</td>\n",
       "      <td>1</td>\n",
       "    </tr>\n",
       "    <tr>\n",
       "      <th>3</th>\n",
       "      <td>ham</td>\n",
       "      <td>U dun say so early hor... U c already then say...</td>\n",
       "      <td>0</td>\n",
       "    </tr>\n",
       "    <tr>\n",
       "      <th>4</th>\n",
       "      <td>ham</td>\n",
       "      <td>Nah I don't think he goes to usf, he lives aro...</td>\n",
       "      <td>0</td>\n",
       "    </tr>\n",
       "  </tbody>\n",
       "</table>\n",
       "</div>"
      ],
      "text/plain": [
       "  Category                                            Message  spam\n",
       "0      ham  Go until jurong point, crazy.. Available only ...     0\n",
       "1      ham                      Ok lar... Joking wif u oni...     0\n",
       "2     spam  Free entry in 2 a wkly comp to win FA Cup fina...     1\n",
       "3      ham  U dun say so early hor... U c already then say...     0\n",
       "4      ham  Nah I don't think he goes to usf, he lives aro...     0"
      ]
     },
     "execution_count": 6,
     "metadata": {},
     "output_type": "execute_result"
    }
   ],
   "source": [
    "df.head()"
   ]
  },
  {
   "cell_type": "code",
   "execution_count": 7,
   "id": "5731f223",
   "metadata": {},
   "outputs": [],
   "source": [
    "\n",
    "x_train,x_test,y_train,y_test=train_test_split(df.Message,df.spam,test_size=0.2)"
   ]
  },
  {
   "cell_type": "code",
   "execution_count": 8,
   "id": "727dbbd5",
   "metadata": {},
   "outputs": [
    {
     "data": {
      "text/plain": [
       "(5572, 3)"
      ]
     },
     "execution_count": 8,
     "metadata": {},
     "output_type": "execute_result"
    }
   ],
   "source": [
    "df.shape"
   ]
  },
  {
   "cell_type": "code",
   "execution_count": 9,
   "id": "d268cd6d",
   "metadata": {},
   "outputs": [
    {
     "data": {
      "text/plain": [
       "(4457,)"
      ]
     },
     "execution_count": 9,
     "metadata": {},
     "output_type": "execute_result"
    }
   ],
   "source": [
    "x_train.shape"
   ]
  },
  {
   "cell_type": "code",
   "execution_count": 10,
   "id": "d5390ef8",
   "metadata": {},
   "outputs": [
    {
     "data": {
      "text/plain": [
       "(1115,)"
      ]
     },
     "execution_count": 10,
     "metadata": {},
     "output_type": "execute_result"
    }
   ],
   "source": [
    "x_test.shape"
   ]
  },
  {
   "cell_type": "code",
   "execution_count": 11,
   "id": "e4279674",
   "metadata": {},
   "outputs": [
    {
     "data": {
      "text/plain": [
       "pandas.core.series.Series"
      ]
     },
     "execution_count": 11,
     "metadata": {},
     "output_type": "execute_result"
    }
   ],
   "source": [
    "type(x_train)"
   ]
  },
  {
   "cell_type": "code",
   "execution_count": 12,
   "id": "e0751cf6",
   "metadata": {},
   "outputs": [
    {
     "data": {
      "text/plain": [
       "4157    Yo, call me when you get the chance, a friend ...\n",
       "1046                                   Come round, it's .\n",
       "1916    Its not that time of the month nor mid of the ...\n",
       "398     You are always putting your business out there...\n",
       "Name: Message, dtype: object"
      ]
     },
     "execution_count": 12,
     "metadata": {},
     "output_type": "execute_result"
    }
   ],
   "source": [
    "x_train[:4]"
   ]
  },
  {
   "cell_type": "code",
   "execution_count": 13,
   "id": "5e5434a0",
   "metadata": {},
   "outputs": [
    {
     "data": {
      "text/plain": [
       "pandas.core.series.Series"
      ]
     },
     "execution_count": 13,
     "metadata": {},
     "output_type": "execute_result"
    }
   ],
   "source": [
    " type(y_train)"
   ]
  },
  {
   "cell_type": "code",
   "execution_count": 14,
   "id": "68087961",
   "metadata": {},
   "outputs": [
    {
     "data": {
      "text/plain": [
       "4157    0\n",
       "1046    0\n",
       "1916    0\n",
       "398     0\n",
       "Name: spam, dtype: int64"
      ]
     },
     "execution_count": 14,
     "metadata": {},
     "output_type": "execute_result"
    }
   ],
   "source": [
    "y_train[:4]"
   ]
  },
  {
   "cell_type": "code",
   "execution_count": 15,
   "id": "dc207e43",
   "metadata": {},
   "outputs": [],
   "source": [
    "v=CountVectorizer()"
   ]
  },
  {
   "cell_type": "code",
   "execution_count": 16,
   "id": "58f98d5b",
   "metadata": {},
   "outputs": [
    {
     "data": {
      "text/plain": [
       "<4457x7808 sparse matrix of type '<class 'numpy.int64'>'\n",
       "\twith 59711 stored elements in Compressed Sparse Row format>"
      ]
     },
     "execution_count": 16,
     "metadata": {},
     "output_type": "execute_result"
    }
   ],
   "source": [
    "x_train_cv=v.fit_transform(x_train.values)\n",
    "x_train_cv"
   ]
  },
  {
   "cell_type": "code",
   "execution_count": 17,
   "id": "e3541705",
   "metadata": {
    "scrolled": true
   },
   "outputs": [
    {
     "data": {
      "text/plain": [
       "<1x7808 sparse matrix of type '<class 'numpy.int64'>'\n",
       "\twith 17 stored elements in Compressed Sparse Row format>"
      ]
     },
     "execution_count": 17,
     "metadata": {},
     "output_type": "execute_result"
    }
   ],
   "source": [
    "x_train_cv[0]"
   ]
  },
  {
   "cell_type": "code",
   "execution_count": 18,
   "id": "a2c87e27",
   "metadata": {},
   "outputs": [
    {
     "data": {
      "text/plain": [
       "array([0, 0, 0, ..., 0, 0, 0], dtype=int64)"
      ]
     },
     "execution_count": 18,
     "metadata": {},
     "output_type": "execute_result"
    }
   ],
   "source": [
    "x_train_cv.toarray()[:2][0]"
   ]
  },
  {
   "cell_type": "code",
   "execution_count": 19,
   "id": "a419dd5e",
   "metadata": {},
   "outputs": [
    {
     "data": {
      "text/plain": [
       "(4457, 7808)"
      ]
     },
     "execution_count": 19,
     "metadata": {},
     "output_type": "execute_result"
    }
   ],
   "source": [
    "x_train_cv.shape"
   ]
  },
  {
   "cell_type": "code",
   "execution_count": 20,
   "id": "99df5c83",
   "metadata": {},
   "outputs": [
    {
     "data": {
      "text/plain": [
       "array(['ansr', 'answer', 'answered', 'answerin', 'answering', 'answers',\n",
       "       'antelope', 'anthony', 'anti', 'antibiotic', 'any', 'anybody',\n",
       "       'anyhow', 'anymore', 'anyone', 'anyones', 'anyplaces', 'anythiing',\n",
       "       'anythin', 'anything', 'anythingtomorrow', 'anytime', 'anyway',\n",
       "       'anyways', 'anywhere', 'aom', 'apart', 'apartment', 'apes',\n",
       "       'apeshit', 'aphex', 'apnt', 'apo', 'apologetic', 'apologise',\n",
       "       'apologize', 'apology', 'app', 'apparently', 'appeal', 'appendix',\n",
       "       'applausestore', 'applebees', 'apples', 'application', 'apply',\n",
       "       'applyed', 'appointment', 'appointments', 'appreciate'],\n",
       "      dtype=object)"
      ]
     },
     "execution_count": 20,
     "metadata": {},
     "output_type": "execute_result"
    }
   ],
   "source": [
    "v.get_feature_names_out()[1000:1050]"
   ]
  },
  {
   "cell_type": "code",
   "execution_count": 21,
   "id": "509fd71b",
   "metadata": {},
   "outputs": [
    {
     "data": {
      "text/plain": [
       "(7808,)"
      ]
     },
     "execution_count": 21,
     "metadata": {},
     "output_type": "execute_result"
    }
   ],
   "source": [
    "v.get_feature_names_out().shape"
   ]
  },
  {
   "cell_type": "code",
   "execution_count": 22,
   "id": "0a115846",
   "metadata": {},
   "outputs": [],
   "source": [
    "#dir(v)"
   ]
  },
  {
   "cell_type": "code",
   "execution_count": 23,
   "id": "676a2457",
   "metadata": {},
   "outputs": [
    {
     "data": {
      "text/plain": [
       "{'yo': 7761,\n",
       " 'call': 1639,\n",
       " 'me': 4460,\n",
       " 'when': 7538,\n",
       " 'you': 7766,\n",
       " 'get': 3178,\n",
       " 'the': 6879,\n",
       " 'chance': 1750,\n",
       " 'friend': 3062,\n",
       " 'of': 4954,\n",
       " 'mine': 4542,\n",
       " 'wanted': 7439,\n",
       " 'to': 6995,\n",
       " 'ask': 1115,\n",
       " 'about': 770,\n",
       " 'big': 1370,\n",
       " 'order': 5044,\n",
       " 'come': 1940,\n",
       " 'round': 5902,\n",
       " 'it': 3814,\n",
       " 'its': 3821,\n",
       " 'not': 4890,\n",
       " 'that': 6876,\n",
       " 'time': 6962,\n",
       " 'month': 4633,\n",
       " 'nor': 4877,\n",
       " 'mid': 4522,\n",
       " 'are': 1069,\n",
       " 'always': 947,\n",
       " 'putting': 5587,\n",
       " 'your': 7772,\n",
       " 'business': 1604,\n",
       " 'out': 5072,\n",
       " 'there': 6898,\n",
       " 'put': 5584,\n",
       " 'pictures': 5275,\n",
       " 'ass': 1124,\n",
       " 'on': 4994,\n",
       " 'facebook': 2793,\n",
       " 'one': 5000,\n",
       " 'most': 4649,\n",
       " 'open': 5018,\n",
       " 'people': 5210,\n",
       " 've': 7320,\n",
       " 'ever': 2711,\n",
       " 'met': 4515,\n",
       " 'why': 7562,\n",
       " 'would': 7670,\n",
       " 'think': 6913,\n",
       " 'picture': 5274,\n",
       " 'room': 5894,\n",
       " 'hurt': 3614,\n",
       " 'make': 4380,\n",
       " 'feel': 2857,\n",
       " 'violated': 7356,\n",
       " 'don': 2446,\n",
       " 'run': 5930,\n",
       " 'away': 1188,\n",
       " 'frm': 3069,\n",
       " 'walk': 7421,\n",
       " 'slowly': 6310,\n",
       " 'amp': 966,\n",
       " 'kills': 3992,\n",
       " 'care': 1687,\n",
       " 'enough': 2651,\n",
       " 'stop': 6559,\n",
       " 'in': 3695,\n",
       " 'town': 7066,\n",
       " 'alone': 936,\n",
       " 'subscribed': 6631,\n",
       " 'best': 1347,\n",
       " 'mobile': 4599,\n",
       " 'content': 2019,\n",
       " 'service': 6102,\n",
       " 'uk': 7177,\n",
       " 'for': 2996,\n",
       " 'per': 5212,\n",
       " 'ten': 6829,\n",
       " 'days': 2223,\n",
       " 'until': 7238,\n",
       " 'send': 6082,\n",
       " '83435': 671,\n",
       " 'helpline': 3460,\n",
       " '08706091795': 88,\n",
       " 'and': 977,\n",
       " 'course': 2078,\n",
       " 'should': 6191,\n",
       " 'stink': 6549,\n",
       " 'pls': 5327,\n",
       " 'accept': 787,\n",
       " 'day': 2222,\n",
       " 'or': 5036,\n",
       " 'am': 949,\n",
       " 'begging': 1320,\n",
       " 'change': 1752,\n",
       " 'number': 4918,\n",
       " 'lol': 4241,\n",
       " 'but': 1607,\n",
       " 'despite': 2310,\n",
       " 'these': 6900,\n",
       " 'cramps': 2095,\n",
       " 'like': 4168,\n",
       " 'being': 1328,\n",
       " 'girl': 3197,\n",
       " 'sure': 6695,\n",
       " 'they': 6906,\n",
       " 'll': 4217,\n",
       " 'understand': 7201,\n",
       " 'wine': 7588,\n",
       " 'good': 3240,\n",
       " 'idea': 3645,\n",
       " 'just': 3932,\n",
       " 'had': 3348,\n",
       " 'slurp': 6312,\n",
       " 'could': 2066,\n",
       " 'work': 7650,\n",
       " 'we': 7475,\n",
       " 'reach': 5664,\n",
       " 'consensus': 2006,\n",
       " 'at': 1133,\n",
       " 'next': 4826,\n",
       " 'meeting': 4481,\n",
       " 'double': 2462,\n",
       " 'eviction': 2725,\n",
       " 'this': 6920,\n",
       " 'week': 7497,\n",
       " 'spiral': 6449,\n",
       " 'michael': 4521,\n",
       " 'riddance': 5853,\n",
       " 'them': 6889,\n",
       " 'know': 4015,\n",
       " 'girls': 3200,\n",
       " 'safe': 5950,\n",
       " 'selfish': 6074,\n",
       " 'got': 3258,\n",
       " 'pa': 5111,\n",
       " 'thank': 6868,\n",
       " 'night': 4837,\n",
       " 'armand': 1085,\n",
       " 'says': 6003,\n",
       " 'over': 5090,\n",
       " 'epsilon': 2671,\n",
       " 'no': 4856,\n",
       " 'problem': 5507,\n",
       " 'baby': 1208,\n",
       " 'is': 3802,\n",
       " 'talk': 6765,\n",
       " 'called': 1646,\n",
       " 'left': 4123,\n",
       " 'message': 4510,\n",
       " 'dude': 2523,\n",
       " 'avatar': 1174,\n",
       " '3d': 459,\n",
       " 'was': 7449,\n",
       " 'imp': 3681,\n",
       " 'point': 5358,\n",
       " 'thought': 6930,\n",
       " 'were': 7521,\n",
       " 'actually': 820,\n",
       " 'flies': 2948,\n",
       " 'almost': 935,\n",
       " 'tried': 7099,\n",
       " 'hittng': 3502,\n",
       " 'as': 1105,\n",
       " 'reflex': 5732,\n",
       " 'thing': 6911,\n",
       " 'thanx': 6874,\n",
       " 'exams': 2740,\n",
       " 'march': 4408,\n",
       " 'ive': 3827,\n",
       " 'done': 2448,\n",
       " 'revision': 5845,\n",
       " 'fran': 3032,\n",
       " 'still': 6548,\n",
       " 'with': 7609,\n",
       " 'boyf': 1503,\n",
       " 'gotta': 3262,\n",
       " 'interviw': 3768,\n",
       " 'exeter': 2751,\n",
       " 'bit': 1392,\n",
       " 'worried': 7659,\n",
       " 'jp': 3912,\n",
       " 'hungry': 3608,\n",
       " 'mofo': 4614,\n",
       " 'crazy': 2103,\n",
       " 'ar': 1063,\n",
       " 'he': 3423,\n",
       " 'married': 4418,\n",
       " 'gd': 3157,\n",
       " 'looking': 4254,\n",
       " 'guys': 3338,\n",
       " 'my': 4723,\n",
       " 'frens': 3054,\n",
       " 'say': 6000,\n",
       " 'korean': 4025,\n",
       " 'leona': 4136,\n",
       " 'fave': 2844,\n",
       " 'dun': 2531,\n",
       " 'thk': 6921,\n",
       " 'aft': 864,\n",
       " 'some': 6364,\n",
       " 'thinking': 6915,\n",
       " 'mayb': 4454,\n",
       " 'prob': 5505,\n",
       " 'go': 3219,\n",
       " 'text': 6854,\n",
       " 'her': 3466,\n",
       " 'if': 3655,\n",
       " 'she': 6146,\n",
       " 'doesnt': 2429,\n",
       " 'reply': 5789,\n",
       " 'let': 4142,\n",
       " 'so': 6354,\n",
       " 'can': 1664,\n",
       " 'have': 3415,\n",
       " 'log': 4233,\n",
       " 'wot': 7666,\n",
       " 'wear': 7479,\n",
       " 'shirts': 6166,\n",
       " 'jumpers': 3926,\n",
       " 'hat': 3406,\n",
       " 'belt': 1339,\n",
       " 'all': 926,\n",
       " 'cribbs': 2116,\n",
       " 'cmon': 1901,\n",
       " 'babe': 1205,\n",
       " 'horny': 3554,\n",
       " 'turn': 7138,\n",
       " 'txt': 7152,\n",
       " 'fantasy': 2828,\n",
       " 'now': 4904,\n",
       " 'im': 3670,\n",
       " 'hot': 3563,\n",
       " 'sticky': 6545,\n",
       " 'need': 4788,\n",
       " 'replies': 5788,\n",
       " 'cost': 2057,\n",
       " '50': 529,\n",
       " 'cancel': 1668,\n",
       " 'xmas': 7710,\n",
       " 'prize': 5500,\n",
       " 'draws': 2484,\n",
       " 'trying': 7119,\n",
       " 'contact': 2015,\n",
       " 'todays': 7003,\n",
       " 'draw': 2483,\n",
       " 'shows': 6205,\n",
       " 'won': 7635,\n",
       " '2000': 350,\n",
       " 'guaranteed': 3320,\n",
       " '09058094565': 176,\n",
       " 'from': 3079,\n",
       " 'land': 4054,\n",
       " 'line': 4183,\n",
       " 'valid': 7303,\n",
       " '12hrs': 290,\n",
       " 'only': 5006,\n",
       " 'look': 4250,\n",
       " 'fuckin': 3090,\n",
       " 'what': 7532,\n",
       " 'fuck': 3088,\n",
       " 'up': 7240,\n",
       " 'well': 7513,\n",
       " 'costa': 2058,\n",
       " 'del': 2266,\n",
       " 'sol': 6361,\n",
       " 'holiday': 3525,\n",
       " '5000': 531,\n",
       " 'await': 1183,\n",
       " 'collection': 1929,\n",
       " '09050090044': 169,\n",
       " 'toclaim': 7001,\n",
       " 'sae': 5948,\n",
       " 'tcs': 6796,\n",
       " 'pobox334': 5344,\n",
       " 'stockport': 6553,\n",
       " 'sk38xh': 6272,\n",
       " 'pm': 5335,\n",
       " 'max10mins': 4449,\n",
       " 'our': 5070,\n",
       " 'records': 5717,\n",
       " 'indicate': 3719,\n",
       " 'maybe': 4455,\n",
       " 'entitled': 2659,\n",
       " 'pounds': 5414,\n",
       " 'compensation': 1960,\n",
       " 'accident': 790,\n",
       " 'claim': 1852,\n",
       " 'free': 3042,\n",
       " 'msg': 4674,\n",
       " 'ok': 4977,\n",
       " 'noe': 4860,\n",
       " 'leave': 4117,\n",
       " 'house': 3571,\n",
       " 'ooh': 5013,\n",
       " '4got': 517,\n",
       " 'gonna': 3239,\n",
       " 'start': 6509,\n",
       " 'belly': 1334,\n",
       " 'dancing': 2198,\n",
       " 'moseley': 4648,\n",
       " 'weds': 7494,\n",
       " '30': 424,\n",
       " 'want': 7437,\n",
       " 'join': 3892,\n",
       " 'cafe': 1629,\n",
       " 'too': 7036,\n",
       " 'nice': 4830,\n",
       " 'do': 2415,\n",
       " 'something': 6372,\n",
       " 'different': 2353,\n",
       " 'weekends': 7500,\n",
       " 'see': 6058,\n",
       " 'ya': 7726,\n",
       " 'soon': 6388,\n",
       " 'funk': 3105,\n",
       " 'ur': 7258,\n",
       " 'fone': 2982,\n",
       " 'weekly': 7501,\n",
       " 'new': 4819,\n",
       " 'tone': 7024,\n",
       " 'tones2u': 7026,\n",
       " 'www': 7700,\n",
       " 'ringtones': 5866,\n",
       " 'co': 1905,\n",
       " 'original': 5054,\n",
       " 'tones': 7025,\n",
       " '3gbp': 462,\n",
       " 'network': 4811,\n",
       " 'operator': 5023,\n",
       " 'rates': 5647,\n",
       " 'apply': 1045,\n",
       " 'studyn': 6609,\n",
       " 'library': 4151,\n",
       " 'later': 4080,\n",
       " 'pretty': 5476,\n",
       " 'weak': 7476,\n",
       " 'today': 7002,\n",
       " 'bad': 1216,\n",
       " 'surely': 6696,\n",
       " 'dont': 2450,\n",
       " 'forgot': 3009,\n",
       " 'will': 7579,\n",
       " 'be': 1288,\n",
       " 'touch': 7060,\n",
       " 'oh': 4972,\n",
       " 'fine': 2910,\n",
       " 'by': 1622,\n",
       " 'tonight': 7031,\n",
       " 'sos': 6405,\n",
       " 'any': 1010,\n",
       " 'amount': 965,\n",
       " 'tomarrow': 7017,\n",
       " 'final': 2902,\n",
       " 'hearing': 3437,\n",
       " 'laptop': 4067,\n",
       " 'case': 1705,\n",
       " 'cant': 1675,\n",
       " 'easy': 2561,\n",
       " 'ah': 886,\n",
       " 'sen': 6081,\n",
       " 'selected': 6070,\n",
       " 'means': 4467,\n",
       " 'urgnt': 7265,\n",
       " 'sms': 6336,\n",
       " 'hi': 3480,\n",
       " 'roger': 5886,\n",
       " 'cl': 1851,\n",
       " 'how': 3575,\n",
       " 'others': 5063,\n",
       " 'probably': 5506,\n",
       " 'early': 2550,\n",
       " 'tomorrow': 7022,\n",
       " 'then': 6893,\n",
       " 'remain': 5756,\n",
       " 'unconvinced': 7196,\n",
       " 'isn': 3809,\n",
       " 'an': 973,\n",
       " 'elaborate': 2603,\n",
       " 'test': 6848,\n",
       " 'willpower': 7581,\n",
       " 'intrepid': 3771,\n",
       " 'duo': 2533,\n",
       " 'great': 3291,\n",
       " 'both': 1474,\n",
       " 'came': 1659,\n",
       " 'while': 7549,\n",
       " 'ago': 884,\n",
       " 'nope': 4876,\n",
       " 'waiting': 7417,\n",
       " 'sch': 6010,\n",
       " 'daddy': 2189,\n",
       " 'offer': 4960,\n",
       " '150': 304,\n",
       " 'worth': 7664,\n",
       " 'discount': 2390,\n",
       " 'vouchers': 7387,\n",
       " 'yes': 7751,\n",
       " '85023': 682,\n",
       " 'savamob': 5994,\n",
       " 'member': 4492,\n",
       " 'offers': 4963,\n",
       " 'cs': 2135,\n",
       " '08717898035': 132,\n",
       " '00': 0,\n",
       " 'sub': 6622,\n",
       " '16': 317,\n",
       " 'unsub': 7235,\n",
       " 'jay': 3856,\n",
       " 'getting': 3184,\n",
       " 'really': 5684,\n",
       " 'impatient': 3682,\n",
       " 'belligerent': 1333,\n",
       " 'wan': 7433,\n",
       " 'haf': 3350,\n",
       " 'lunch': 4316,\n",
       " 'da': 2184,\n",
       " 'canteen': 1677,\n",
       " 'trust': 7114,\n",
       " 'mornin': 4643,\n",
       " 'thanku': 6872,\n",
       " 'wish': 7601,\n",
       " 'same': 5968,\n",
       " 'friendship': 3065,\n",
       " 'poem': 5357,\n",
       " 'dear': 2233,\n",
       " 'near': 4778,\n",
       " 'hear': 3434,\n",
       " 'fear': 2850,\n",
       " 'live': 4211,\n",
       " 'cheer': 1790,\n",
       " 'more': 4640,\n",
       " 'tear': 6805,\n",
       " 'gud': 3321,\n",
       " 'ni8': 4828,\n",
       " '22': 360,\n",
       " 'kick': 3983,\n",
       " 'off': 4956,\n",
       " 'euro2004': 2700,\n",
       " 'kept': 3970,\n",
       " 'date': 2215,\n",
       " 'latest': 4081,\n",
       " 'news': 4823,\n",
       " 'results': 5830,\n",
       " 'daily': 2192,\n",
       " 'removed': 5771,\n",
       " '83222': 666,\n",
       " 'anything': 1019,\n",
       " 'special': 6428,\n",
       " 'contract': 2026,\n",
       " '11': 268,\n",
       " 'mnths': 4594,\n",
       " 'motorola': 4656,\n",
       " 'nokia': 4865,\n",
       " 'etc': 2695,\n",
       " 'mins': 4550,\n",
       " 'orange': 5040,\n",
       " 'tariffs': 6778,\n",
       " 'callback': 1642,\n",
       " 'remove': 5770,\n",
       " 'evening': 2707,\n",
       " 'ttyl': 7128,\n",
       " 'badrith': 1219,\n",
       " 'chennai': 1797,\n",
       " 'pick': 5268,\n",
       " 'us': 7271,\n",
       " 'competition': 1961,\n",
       " 'him': 3489,\n",
       " 'slow': 6307,\n",
       " 'using': 7283,\n",
       " 'biola': 1383,\n",
       " 'fne': 2970,\n",
       " 'wow': 7674,\n",
       " 'boys': 1505,\n",
       " 'back': 1213,\n",
       " 'take': 6758,\n",
       " '2007': 354,\n",
       " 'tour': 7064,\n",
       " 'win': 7582,\n",
       " 'vip': 7359,\n",
       " 'tickets': 6954,\n",
       " 'pre': 5446,\n",
       " 'book': 1455,\n",
       " 'club': 1891,\n",
       " '81303': 654,\n",
       " 'trackmarque': 7071,\n",
       " 'ltd': 4306,\n",
       " 'info': 3725,\n",
       " 'vipclub4u': 7360,\n",
       " 'samus': 5969,\n",
       " 'shoulders': 6192,\n",
       " 'yet': 7754,\n",
       " 'door': 2457,\n",
       " 'didnt': 2342,\n",
       " 'search': 6042,\n",
       " 'online': 5004,\n",
       " 'told': 7011,\n",
       " 'everything': 2721,\n",
       " 'dehydrated': 2264,\n",
       " 'host': 3560,\n",
       " 'based': 1255,\n",
       " 'idps': 3652,\n",
       " 'linux': 4192,\n",
       " 'systems': 6743,\n",
       " 'aldrine': 914,\n",
       " 'rakhesh': 5632,\n",
       " 'ex': 2736,\n",
       " 'rtm': 5917,\n",
       " 'here': 3467,\n",
       " 'urgent': 7262,\n",
       " 'perumbavoor': 5236,\n",
       " 'moji': 4615,\n",
       " 'informed': 3728,\n",
       " 'saved': 5996,\n",
       " 'lives': 4214,\n",
       " 'thanks': 6869,\n",
       " 'word': 7648,\n",
       " 'checkmate': 1788,\n",
       " 'chess': 1801,\n",
       " 'comes': 1942,\n",
       " 'persian': 5229,\n",
       " 'phrase': 5264,\n",
       " 'shah': 6129,\n",
       " 'maat': 4343,\n",
       " 'which': 7548,\n",
       " 'king': 3997,\n",
       " 'dead': 2229,\n",
       " 'goodmorning': 3245,\n",
       " 'shopping': 6182,\n",
       " 'eh': 2594,\n",
       " 'ger': 3176,\n",
       " 'toking': 7009,\n",
       " 'abt': 777,\n",
       " 'syd': 6736,\n",
       " 'leh': 4129,\n",
       " 'haha': 3351,\n",
       " 'finish': 2913,\n",
       " 'wanna': 7436,\n",
       " 'spend': 6442,\n",
       " 'cos': 2055,\n",
       " 'vewy': 7334,\n",
       " 'lubly': 4308,\n",
       " 'love': 4282,\n",
       " 'xxx': 7717,\n",
       " 'outta': 5088,\n",
       " 'class': 1861,\n",
       " 'gym': 3340,\n",
       " 'spook': 6465,\n",
       " 'mob': 4597,\n",
       " 'halloween': 3364,\n",
       " 'logo': 4237,\n",
       " 'pic': 5267,\n",
       " 'plus': 5332,\n",
       " 'eerie': 2583,\n",
       " 'card': 1684,\n",
       " '8007': 641,\n",
       " 'zed': 7798,\n",
       " '08701417012150p': 78,\n",
       " 'aight': 895,\n",
       " 'keep': 3963,\n",
       " 'prabha': 5426,\n",
       " 'soryda': 6404,\n",
       " 'realy': 5686,\n",
       " 'heart': 3438,\n",
       " 'sory': 6403,\n",
       " 'dunno': 2532,\n",
       " 'jus': 3931,\n",
       " 'lido': 4154,\n",
       " '930': 734,\n",
       " 'calling': 1652,\n",
       " 'right': 5856,\n",
       " 'hand': 3368,\n",
       " 'phone': 5256,\n",
       " 'sorry': 6397,\n",
       " 'gone': 3237,\n",
       " 'mad': 4353,\n",
       " 'many': 4404,\n",
       " 'pending': 5207,\n",
       " 'works': 7655,\n",
       " 'brownie': 1561,\n",
       " 'planning': 5307,\n",
       " 'usually': 7287,\n",
       " 'stops': 6566,\n",
       " 'find': 2907,\n",
       " 'hella': 3451,\n",
       " 'weed': 7496,\n",
       " 'smoke': 6330,\n",
       " 'study': 6607,\n",
       " 'positions': 5393,\n",
       " 'kama': 3947,\n",
       " 'sutra': 6707,\n",
       " 'luck': 4309,\n",
       " 'catches': 1716,\n",
       " 'down': 2469,\n",
       " 'plumbers': 5329,\n",
       " 'tape': 6777,\n",
       " 'wrench': 7677,\n",
       " 'borrow': 1470,\n",
       " 'life': 4157,\n",
       " 'has': 3402,\n",
       " 'never': 4815,\n",
       " 'been': 1310,\n",
       " 'much': 4690,\n",
       " 'fun': 3101,\n",
       " 'made': 4357,\n",
       " 'truly': 7113,\n",
       " 'forget': 3004,\n",
       " 'enjoy': 2645,\n",
       " 'gbp': 3153,\n",
       " 'sef': 6066,\n",
       " 'dey': 2324,\n",
       " 'laugh': 4084,\n",
       " 'meanwhile': 4469,\n",
       " 'darling': 2207,\n",
       " 'anjie': 986,\n",
       " 'video': 7342,\n",
       " 'camera': 1660,\n",
       " 'phones': 5259,\n",
       " 'half': 3359,\n",
       " 'price': 5482,\n",
       " 'rental': 5777,\n",
       " '12': 279,\n",
       " 'mths': 4683,\n",
       " '500': 530,\n",
       " 'cross': 2124,\n",
       " 'ntwk': 4913,\n",
       " '100': 255,\n",
       " 'txts': 7159,\n",
       " 'mobileupd8': 4603,\n",
       " '08001950382': 54,\n",
       " 'call2optout': 1641,\n",
       " '674': 585,\n",
       " 'moon': 4638,\n",
       " 'color': 1931,\n",
       " 'dreams': 2487,\n",
       " 'stars': 6507,\n",
       " 'musical': 4712,\n",
       " 'give': 3203,\n",
       " 'warm': 7443,\n",
       " 'peaceful': 5199,\n",
       " 'sleep': 6290,\n",
       " 'happy': 3392,\n",
       " 'years': 7741,\n",
       " 'melody': 4491,\n",
       " 'happen': 3384,\n",
       " 'tell': 6818,\n",
       " 'truth': 7116,\n",
       " 'taj': 6756,\n",
       " 'mahal': 4369,\n",
       " 'symbol': 6737,\n",
       " 'other': 5062,\n",
       " 'lesser': 4139,\n",
       " 'known': 4017,\n",
       " 'facts': 2797,\n",
       " 'mumtaz': 4703,\n",
       " 'shahjahan': 6130,\n",
       " '4th': 522,\n",
       " 'wife': 7570,\n",
       " 'his': 3496,\n",
       " 'wifes': 7571,\n",
       " 'killed': 3990,\n",
       " 'husband': 3617,\n",
       " 'marry': 4419,\n",
       " 'died': 2345,\n",
       " 'lt': 4305,\n",
       " 'gt': 3316,\n",
       " 'th': 6865,\n",
       " 'delivery': 2276,\n",
       " 'sister': 6257,\n",
       " 'question': 5599,\n",
       " 'arises': 1082,\n",
       " 'where': 7542,\n",
       " 'hell': 3450,\n",
       " 'hari': 3398,\n",
       " 'di': 2330,\n",
       " 'yijue': 7758,\n",
       " 're': 5663,\n",
       " 'esaplanade': 2684,\n",
       " 'miss': 4563,\n",
       " 'please': 5320,\n",
       " 'said': 5953,\n",
       " 'choose': 1835,\n",
       " 'future': 3112,\n",
       " 'used': 7276,\n",
       " 'driving': 2500,\n",
       " 'usf': 7281,\n",
       " 'man': 4390,\n",
       " 'lot': 4268,\n",
       " 'stoners': 6557,\n",
       " '85233': 685,\n",
       " 'ringtone': 5864,\n",
       " 'real': 5675,\n",
       " 'credit': 2110,\n",
       " 'gas': 3141,\n",
       " 'kallis': 3945,\n",
       " 'home': 3530,\n",
       " 'ground': 3308,\n",
       " 'amla': 957,\n",
       " 'durban': 2534,\n",
       " 'already': 939,\n",
       " 'flaky': 2939,\n",
       " 'parent': 5150,\n",
       " 'snot': 6348,\n",
       " 'supposed': 6691,\n",
       " 'child': 1814,\n",
       " 'job': 3886,\n",
       " 'support': 6688,\n",
       " 'ride': 5855,\n",
       " 'age': 875,\n",
       " 'anyway': 1022,\n",
       " 'unintentional': 7215,\n",
       " 'nonetheless': 4873,\n",
       " 'worse': 7662,\n",
       " 'uses': 7280,\n",
       " 'way': 7471,\n",
       " 'better': 1353,\n",
       " 'complete': 1967,\n",
       " 'shut': 6214,\n",
       " 'omg': 4992,\n",
       " 'yesterday': 7753,\n",
       " 'dream': 2486,\n",
       " 'kids': 3987,\n",
       " 'pissed': 5290,\n",
       " 'even': 2706,\n",
       " 'mark': 4412,\n",
       " 'changing': 1755,\n",
       " 'diapers': 2335,\n",
       " 'cause': 1720,\n",
       " 'owed': 5101,\n",
       " 'face': 2792,\n",
       " 'office': 4964,\n",
       " 'around': 1091,\n",
       " 'going': 3231,\n",
       " 'hospital': 3558,\n",
       " 'very': 7332,\n",
       " 'strange': 6578,\n",
       " 'watching': 7460,\n",
       " '2nd': 405,\n",
       " 'bed': 1303,\n",
       " 'sweet': 6723,\n",
       " 'okie': 4982,\n",
       " 'sending': 6084,\n",
       " 'den': 2281,\n",
       " 'wat': 7455,\n",
       " 'schedule': 6011,\n",
       " 'lk': 4216,\n",
       " 'sun': 6670,\n",
       " 'thx': 6951,\n",
       " 'few': 2872,\n",
       " 'months': 4636,\n",
       " 'seems': 6064,\n",
       " 'unnecessarily': 7229,\n",
       " 'hostile': 3562,\n",
       " 'hun': 3604,\n",
       " 'comin': 1945,\n",
       " '2nite': 408,\n",
       " 'every1': 2713,\n",
       " 'hope': 3544,\n",
       " 'ava': 1171,\n",
       " 'goodtime': 3251,\n",
       " 'oli': 4990,\n",
       " 'rang': 5641,\n",
       " 'melnite': 4490,\n",
       " 'ifink': 3657,\n",
       " 'mite': 4575,\n",
       " 'sorted': 6400,\n",
       " 'il': 3666,\n",
       " 'explain': 2771,\n",
       " 'everythin': 2720,\n",
       " 'mon': 4623,\n",
       " 'l8rs': 4036,\n",
       " 'practising': 5433,\n",
       " 'curtsey': 2167,\n",
       " '1000': 256,\n",
       " 'cash': 1706,\n",
       " 'yr': 7783,\n",
       " 'customer': 2172,\n",
       " 'representative': 5794,\n",
       " '08714712394': 120,\n",
       " 'between': 1356,\n",
       " '10am': 263,\n",
       " '7pm': 633,\n",
       " 'whenevr': 7540,\n",
       " 'sad': 5947,\n",
       " 'gray': 3288,\n",
       " 'remembr': 5762,\n",
       " 'listn': 4206,\n",
       " 'watevr': 7464,\n",
       " 'wid': 7567,\n",
       " 'little': 4210,\n",
       " 'promise': 5529,\n",
       " 'bring': 1541,\n",
       " 'smile': 6325,\n",
       " 'alright': 940,\n",
       " 'random': 5637,\n",
       " 'saw': 5999,\n",
       " 'old': 4989,\n",
       " 'roomate': 5895,\n",
       " 'campus': 1662,\n",
       " 'graduated': 3274,\n",
       " 'hey': 3476,\n",
       " 'crave': 2100,\n",
       " 'ahmad': 891,\n",
       " 'saeed': 5949,\n",
       " 'al': 909,\n",
       " 'hallaq': 3363,\n",
       " 'snow': 6349,\n",
       " 'tonite': 7033,\n",
       " 'predicting': 5448,\n",
       " 'inch': 3698,\n",
       " 'accumulation': 801,\n",
       " 'sary': 5984,\n",
       " 'tim': 6961,\n",
       " 'bollox': 1448,\n",
       " 'tol': 7010,\n",
       " 'birthday': 1390,\n",
       " 'lots': 4270,\n",
       " 'nri': 4908,\n",
       " 'bold': 1446,\n",
       " 'bb': 1273,\n",
       " 'torch': 7050,\n",
       " 'yeah': 7739,\n",
       " 'guess': 3325,\n",
       " 'outside': 5084,\n",
       " 'islands': 3808,\n",
       " 'head': 3424,\n",
       " 'towards': 7065,\n",
       " 'hard': 3393,\n",
       " 'rock': 5881,\n",
       " 'into': 3770,\n",
       " 'secret': 6049,\n",
       " 'admirer': 835,\n",
       " 'who': 7554,\n",
       " 'reveal': 5840,\n",
       " 'thinks': 6916,\n",
       " '09065171142': 216,\n",
       " 'stopsms': 6567,\n",
       " '08718727870150ppm': 144,\n",
       " 'congrats': 1999,\n",
       " '3650': 450,\n",
       " '09066382422': 233,\n",
       " 'calls': 1654,\n",
       " '150ppm': 310,\n",
       " 'ave': 1175,\n",
       " '3mins': 466,\n",
       " 'vary': 7313,\n",
       " 'mobiles': 4600,\n",
       " 'close': 1881,\n",
       " '300603': 427,\n",
       " 'post': 5400,\n",
       " 'bcm4284': 1281,\n",
       " 'ldn': 4102,\n",
       " 'wc1n3xx': 7474,\n",
       " 'goin': 3229,\n",
       " 'workout': 7654,\n",
       " 'lor': 4260,\n",
       " 'muz': 4720,\n",
       " 'lose': 4262,\n",
       " 'fats': 2840,\n",
       " 'whens': 7541,\n",
       " 'radio': 5615,\n",
       " 'show': 6198,\n",
       " 'eat': 2562,\n",
       " 'shit': 6167,\n",
       " 'check': 1784,\n",
       " 'audrey': 1157,\n",
       " 'status': 6521,\n",
       " 'loving': 4291,\n",
       " 'exciting': 2745,\n",
       " 'karaoke': 3952,\n",
       " 'type': 7164,\n",
       " 'activities': 817,\n",
       " 'planned': 5306,\n",
       " 'debating': 2238,\n",
       " 'whether': 7547,\n",
       " 'play': 5311,\n",
       " 'football': 2991,\n",
       " 'eve': 2704,\n",
       " 'feeling': 2859,\n",
       " 'lazy': 4098,\n",
       " 'though': 6929,\n",
       " 'freezing': 3051,\n",
       " 'craving': 2101,\n",
       " 'ice': 3639,\n",
       " 'fml': 2969,\n",
       " 'yup': 7793,\n",
       " 'chachi': 1743,\n",
       " 'unable': 7187,\n",
       " 'pl': 5296,\n",
       " 'missed': 4565,\n",
       " 'cal': 1633,\n",
       " 'once': 4998,\n",
       " 'tiz': 6980,\n",
       " 'kanagu': 3948,\n",
       " 'plans': 5308,\n",
       " 'doing': 2439,\n",
       " 'min': 4536,\n",
       " 'freemsg': 3049,\n",
       " 'cam': 1657,\n",
       " 'moby': 4607,\n",
       " 'fancy': 2824,\n",
       " 'chat': 1774,\n",
       " 'w8in': 7402,\n",
       " '4utxt': 526,\n",
       " 'rply': 5911,\n",
       " '82242': 658,\n",
       " 'hlp': 3506,\n",
       " '08712317606': 103,\n",
       " 'msg150p': 4675,\n",
       " '2rcv': 412,\n",
       " 'late': 4077,\n",
       " 'wake': 7418,\n",
       " 'long': 4247,\n",
       " 'carlos': 1696,\n",
       " 'taking': 6762,\n",
       " 'usual': 7286,\n",
       " 'patty': 5181,\n",
       " 'haul': 3410,\n",
       " 'telugu': 6824,\n",
       " 'movie': 4663,\n",
       " 'okay': 4978,\n",
       " 'wah': 7408,\n",
       " 'def': 2256,\n",
       " 'wont': 7641,\n",
       " 'did': 2339,\n",
       " 'terms': 6838,\n",
       " 'conditions': 1988,\n",
       " 'art': 1101,\n",
       " 'meant': 4468,\n",
       " 'yep': 7749,\n",
       " 'jontin': 3904,\n",
       " 'comingdown': 1947,\n",
       " 'sir': 6254,\n",
       " 'smoothly': 6335,\n",
       " 'hoped': 3545,\n",
       " 'bother': 1475,\n",
       " 'bills': 1378,\n",
       " 'settle': 6109,\n",
       " 'extra': 2781,\n",
       " 'challenging': 1747,\n",
       " 'also': 942,\n",
       " 'prepare': 5458,\n",
       " 'pounded': 5413,\n",
       " 'every': 2712,\n",
       " 'loan': 4225,\n",
       " 'purpose': 5578,\n",
       " '75': 617,\n",
       " '000': 1,\n",
       " 'homeowners': 3531,\n",
       " 'tenants': 6830,\n",
       " 'welcome': 7511,\n",
       " 'previously': 5480,\n",
       " 'refused': 5734,\n",
       " 'help': 3455,\n",
       " '0800': 49,\n",
       " '1956669': 327,\n",
       " 'set': 6106,\n",
       " 'soul': 6406,\n",
       " 'fire': 2919,\n",
       " 'spark': 6424,\n",
       " 'flame': 2940,\n",
       " 'rawring': 5652,\n",
       " 'xoxo': 7711,\n",
       " 'aiyah': 903,\n",
       " 'rain': 5622,\n",
       " 'quite': 5606,\n",
       " 'drizzling': 2501,\n",
       " 'least': 4115,\n",
       " 'smoking': 6334,\n",
       " 'through': 6939,\n",
       " 'difficult': 2354,\n",
       " 'boltblue': 1449,\n",
       " '150p': 306,\n",
       " 'poly': 5367,\n",
       " 'mono': 4629,\n",
       " 'eg': 2589,\n",
       " 'poly3': 5368,\n",
       " 'cha': 1742,\n",
       " 'slide': 6299,\n",
       " 'jamz': 3844,\n",
       " 'toxic': 7067,\n",
       " 'two': 7150,\n",
       " 'ready': 5674,\n",
       " 'neither': 4802,\n",
       " 'sterm': 6539,\n",
       " 'voice': 7376,\n",
       " 'studying': 6608,\n",
       " 'resolved': 5810,\n",
       " 'tho': 6925,\n",
       " 'fab': 2790,\n",
       " 'hols': 3528,\n",
       " 'reference': 5727,\n",
       " 'x49': 7703,\n",
       " 'charged': 1763,\n",
       " 'arrive': 1098,\n",
       " 'services': 6103,\n",
       " '09065989182': 220,\n",
       " 'colour': 1932,\n",
       " 'red': 5721,\n",
       " 'txtstar': 7160,\n",
       " ...}"
      ]
     },
     "execution_count": 23,
     "metadata": {},
     "output_type": "execute_result"
    }
   ],
   "source": [
    "v.vocabulary_"
   ]
  },
  {
   "cell_type": "code",
   "execution_count": 24,
   "id": "472b7200",
   "metadata": {},
   "outputs": [
    {
     "data": {
      "text/plain": [
       "'phone750'"
      ]
     },
     "execution_count": 24,
     "metadata": {},
     "output_type": "execute_result"
    }
   ],
   "source": [
    "v.get_feature_names_out()[5257]"
   ]
  },
  {
   "cell_type": "code",
   "execution_count": 25,
   "id": "46ba3aca",
   "metadata": {},
   "outputs": [
    {
     "data": {
      "text/plain": [
       "array([[0, 0, 0, ..., 0, 0, 0],\n",
       "       [0, 0, 0, ..., 0, 0, 0],\n",
       "       [0, 0, 0, ..., 0, 0, 0],\n",
       "       ...,\n",
       "       [0, 0, 0, ..., 0, 0, 0],\n",
       "       [0, 0, 0, ..., 0, 0, 0],\n",
       "       [0, 0, 0, ..., 0, 0, 0]], dtype=int64)"
      ]
     },
     "execution_count": 25,
     "metadata": {},
     "output_type": "execute_result"
    }
   ],
   "source": [
    "x_train_np=x_train_cv.toarray()\n",
    "x_train_np"
   ]
  },
  {
   "cell_type": "code",
   "execution_count": 26,
   "id": "938b2cee",
   "metadata": {},
   "outputs": [
    {
     "data": {
      "text/plain": [
       "array([0, 0, 0, ..., 0, 0, 0], dtype=int64)"
      ]
     },
     "execution_count": 26,
     "metadata": {},
     "output_type": "execute_result"
    }
   ],
   "source": [
    "x_train_np[0]"
   ]
  },
  {
   "cell_type": "code",
   "execution_count": 27,
   "id": "336eac1b",
   "metadata": {},
   "outputs": [
    {
     "data": {
      "text/plain": [
       "(array([ 770, 1115, 1370, 1639, 1750, 3062, 3178, 4460, 4542, 4954, 5044,\n",
       "        6879, 6995, 7439, 7538, 7761, 7766], dtype=int64),)"
      ]
     },
     "execution_count": 27,
     "metadata": {},
     "output_type": "execute_result"
    }
   ],
   "source": [
    "np.where(x_train_np[0]!=0)"
   ]
  },
  {
   "cell_type": "code",
   "execution_count": 28,
   "id": "12426482",
   "metadata": {},
   "outputs": [
    {
     "data": {
      "text/plain": [
       "array([0, 0, 0, ..., 0, 0, 0], dtype=int64)"
      ]
     },
     "execution_count": 28,
     "metadata": {},
     "output_type": "execute_result"
    }
   ],
   "source": [
    "x_train_np[0]"
   ]
  },
  {
   "cell_type": "code",
   "execution_count": 29,
   "id": "2d2d14ce",
   "metadata": {},
   "outputs": [],
   "source": [
    "model=MultinomialNB()"
   ]
  },
  {
   "cell_type": "code",
   "execution_count": 30,
   "id": "743f79b7",
   "metadata": {},
   "outputs": [
    {
     "data": {
      "text/plain": [
       "MultinomialNB()"
      ]
     },
     "execution_count": 30,
     "metadata": {},
     "output_type": "execute_result"
    }
   ],
   "source": [
    "model.fit(x_train_cv,y_train)"
   ]
  },
  {
   "cell_type": "code",
   "execution_count": 31,
   "id": "208df232",
   "metadata": {},
   "outputs": [],
   "source": [
    "x_test_cv=v.transform(x_test)"
   ]
  },
  {
   "cell_type": "code",
   "execution_count": 32,
   "id": "084ae9f6",
   "metadata": {},
   "outputs": [
    {
     "name": "stdout",
     "output_type": "stream",
     "text": [
      "              precision    recall  f1-score   support\n",
      "\n",
      "           0       0.99      1.00      0.99       964\n",
      "           1       0.97      0.95      0.96       151\n",
      "\n",
      "    accuracy                           0.99      1115\n",
      "   macro avg       0.98      0.97      0.98      1115\n",
      "weighted avg       0.99      0.99      0.99      1115\n",
      "\n"
     ]
    }
   ],
   "source": [
    "\n",
    "y_pred=model.predict(x_test_cv)\n",
    "print(classification_report(y_test,y_pred))"
   ]
  },
  {
   "cell_type": "code",
   "execution_count": 33,
   "id": "3dc83a79",
   "metadata": {},
   "outputs": [],
   "source": [
    "emails=[\n",
    "    \n",
    "    \"Hey Mohan,can we get together to watch football game tomorrow?\",\n",
    "    \"Upto 20% discount on parking, exclusive offer just for you.Dont miss this reward!\"\n",
    "]"
   ]
  },
  {
   "cell_type": "code",
   "execution_count": 34,
   "id": "1215990b",
   "metadata": {},
   "outputs": [],
   "source": [
    "emails_count=v.transform(emails)"
   ]
  },
  {
   "cell_type": "code",
   "execution_count": 35,
   "id": "b2584969",
   "metadata": {},
   "outputs": [
    {
     "data": {
      "text/plain": [
       "array([0, 1], dtype=int64)"
      ]
     },
     "execution_count": 35,
     "metadata": {},
     "output_type": "execute_result"
    }
   ],
   "source": [
    "model.predict(emails_count)"
   ]
  },
  {
   "cell_type": "code",
   "execution_count": 36,
   "id": "dfcb967a",
   "metadata": {},
   "outputs": [],
   "source": [
    "\n",
    "clf=Pipeline([\n",
    "    \n",
    "    ('vectorizer',CountVectorizer()),\n",
    "    ('nb',MultinomialNB())\n",
    "])"
   ]
  },
  {
   "cell_type": "code",
   "execution_count": 37,
   "id": "a805b0ce",
   "metadata": {},
   "outputs": [
    {
     "data": {
      "text/plain": [
       "Pipeline(steps=[('vectorizer', CountVectorizer()), ('nb', MultinomialNB())])"
      ]
     },
     "execution_count": 37,
     "metadata": {},
     "output_type": "execute_result"
    }
   ],
   "source": [
    "clf.fit(x_train,y_train)"
   ]
  },
  {
   "cell_type": "code",
   "execution_count": 38,
   "id": "9f7b66f5",
   "metadata": {},
   "outputs": [
    {
     "name": "stdout",
     "output_type": "stream",
     "text": [
      "              precision    recall  f1-score   support\n",
      "\n",
      "           0       0.99      1.00      0.99       964\n",
      "           1       0.97      0.95      0.96       151\n",
      "\n",
      "    accuracy                           0.99      1115\n",
      "   macro avg       0.98      0.97      0.98      1115\n",
      "weighted avg       0.99      0.99      0.99      1115\n",
      "\n"
     ]
    }
   ],
   "source": [
    "y_pred=clf.predict(x_test)\n",
    "print(classification_report(y_test,y_pred))"
   ]
  },
  {
   "cell_type": "code",
   "execution_count": 39,
   "id": "22caff70",
   "metadata": {},
   "outputs": [],
   "source": [
    "data=pd.read_csv(\"IMDB Dataset.csv\")"
   ]
  },
  {
   "cell_type": "code",
   "execution_count": 40,
   "id": "f5dc02a1",
   "metadata": {},
   "outputs": [
    {
     "data": {
      "text/plain": [
       "(50000, 2)"
      ]
     },
     "execution_count": 40,
     "metadata": {},
     "output_type": "execute_result"
    }
   ],
   "source": [
    "data.shape"
   ]
  },
  {
   "cell_type": "code",
   "execution_count": 41,
   "id": "9f299aab",
   "metadata": {},
   "outputs": [
    {
     "data": {
      "text/html": [
       "<div>\n",
       "<style scoped>\n",
       "    .dataframe tbody tr th:only-of-type {\n",
       "        vertical-align: middle;\n",
       "    }\n",
       "\n",
       "    .dataframe tbody tr th {\n",
       "        vertical-align: top;\n",
       "    }\n",
       "\n",
       "    .dataframe thead th {\n",
       "        text-align: right;\n",
       "    }\n",
       "</style>\n",
       "<table border=\"1\" class=\"dataframe\">\n",
       "  <thead>\n",
       "    <tr style=\"text-align: right;\">\n",
       "      <th></th>\n",
       "      <th>review</th>\n",
       "      <th>sentiment</th>\n",
       "    </tr>\n",
       "  </thead>\n",
       "  <tbody>\n",
       "    <tr>\n",
       "      <th>0</th>\n",
       "      <td>One of the other reviewers has mentioned that ...</td>\n",
       "      <td>positive</td>\n",
       "    </tr>\n",
       "    <tr>\n",
       "      <th>1</th>\n",
       "      <td>A wonderful little production. &lt;br /&gt;&lt;br /&gt;The...</td>\n",
       "      <td>positive</td>\n",
       "    </tr>\n",
       "    <tr>\n",
       "      <th>2</th>\n",
       "      <td>I thought this was a wonderful way to spend ti...</td>\n",
       "      <td>positive</td>\n",
       "    </tr>\n",
       "    <tr>\n",
       "      <th>3</th>\n",
       "      <td>Basically there's a family where a little boy ...</td>\n",
       "      <td>negative</td>\n",
       "    </tr>\n",
       "    <tr>\n",
       "      <th>4</th>\n",
       "      <td>Petter Mattei's \"Love in the Time of Money\" is...</td>\n",
       "      <td>positive</td>\n",
       "    </tr>\n",
       "  </tbody>\n",
       "</table>\n",
       "</div>"
      ],
      "text/plain": [
       "                                              review sentiment\n",
       "0  One of the other reviewers has mentioned that ...  positive\n",
       "1  A wonderful little production. <br /><br />The...  positive\n",
       "2  I thought this was a wonderful way to spend ti...  positive\n",
       "3  Basically there's a family where a little boy ...  negative\n",
       "4  Petter Mattei's \"Love in the Time of Money\" is...  positive"
      ]
     },
     "execution_count": 41,
     "metadata": {},
     "output_type": "execute_result"
    }
   ],
   "source": [
    "data.head()"
   ]
  },
  {
   "cell_type": "code",
   "execution_count": 42,
   "id": "7155673a",
   "metadata": {},
   "outputs": [],
   "source": [
    "data['category']=data['sentiment'].apply(lambda x:1 if x=='positive' else 0)"
   ]
  },
  {
   "cell_type": "code",
   "execution_count": 43,
   "id": "2d3af80d",
   "metadata": {},
   "outputs": [
    {
     "data": {
      "text/html": [
       "<div>\n",
       "<style scoped>\n",
       "    .dataframe tbody tr th:only-of-type {\n",
       "        vertical-align: middle;\n",
       "    }\n",
       "\n",
       "    .dataframe tbody tr th {\n",
       "        vertical-align: top;\n",
       "    }\n",
       "\n",
       "    .dataframe thead th {\n",
       "        text-align: right;\n",
       "    }\n",
       "</style>\n",
       "<table border=\"1\" class=\"dataframe\">\n",
       "  <thead>\n",
       "    <tr style=\"text-align: right;\">\n",
       "      <th></th>\n",
       "      <th>review</th>\n",
       "      <th>sentiment</th>\n",
       "      <th>category</th>\n",
       "    </tr>\n",
       "  </thead>\n",
       "  <tbody>\n",
       "    <tr>\n",
       "      <th>0</th>\n",
       "      <td>One of the other reviewers has mentioned that ...</td>\n",
       "      <td>positive</td>\n",
       "      <td>1</td>\n",
       "    </tr>\n",
       "    <tr>\n",
       "      <th>1</th>\n",
       "      <td>A wonderful little production. &lt;br /&gt;&lt;br /&gt;The...</td>\n",
       "      <td>positive</td>\n",
       "      <td>1</td>\n",
       "    </tr>\n",
       "    <tr>\n",
       "      <th>2</th>\n",
       "      <td>I thought this was a wonderful way to spend ti...</td>\n",
       "      <td>positive</td>\n",
       "      <td>1</td>\n",
       "    </tr>\n",
       "    <tr>\n",
       "      <th>3</th>\n",
       "      <td>Basically there's a family where a little boy ...</td>\n",
       "      <td>negative</td>\n",
       "      <td>0</td>\n",
       "    </tr>\n",
       "    <tr>\n",
       "      <th>4</th>\n",
       "      <td>Petter Mattei's \"Love in the Time of Money\" is...</td>\n",
       "      <td>positive</td>\n",
       "      <td>1</td>\n",
       "    </tr>\n",
       "  </tbody>\n",
       "</table>\n",
       "</div>"
      ],
      "text/plain": [
       "                                              review sentiment  category\n",
       "0  One of the other reviewers has mentioned that ...  positive         1\n",
       "1  A wonderful little production. <br /><br />The...  positive         1\n",
       "2  I thought this was a wonderful way to spend ti...  positive         1\n",
       "3  Basically there's a family where a little boy ...  negative         0\n",
       "4  Petter Mattei's \"Love in the Time of Money\" is...  positive         1"
      ]
     },
     "execution_count": 43,
     "metadata": {},
     "output_type": "execute_result"
    }
   ],
   "source": [
    "data.head()"
   ]
  },
  {
   "cell_type": "code",
   "execution_count": 44,
   "id": "e75fe52a",
   "metadata": {},
   "outputs": [
    {
     "data": {
      "text/plain": [
       "1    25000\n",
       "0    25000\n",
       "Name: category, dtype: int64"
      ]
     },
     "execution_count": 44,
     "metadata": {},
     "output_type": "execute_result"
    }
   ],
   "source": [
    "data.category.value_counts()"
   ]
  },
  {
   "cell_type": "code",
   "execution_count": 45,
   "id": "9672bb11",
   "metadata": {},
   "outputs": [],
   "source": [
    "xtrain,xtest,ytrain,ytest=train_test_split(data.review,data.category,test_size=0.2)"
   ]
  },
  {
   "cell_type": "code",
   "execution_count": 46,
   "id": "4dbdd82b",
   "metadata": {},
   "outputs": [
    {
     "name": "stdout",
     "output_type": "stream",
     "text": [
      "              precision    recall  f1-score   support\n",
      "\n",
      "           0       0.83      0.84      0.84      5026\n",
      "           1       0.84      0.83      0.83      4974\n",
      "\n",
      "    accuracy                           0.84     10000\n",
      "   macro avg       0.84      0.84      0.84     10000\n",
      "weighted avg       0.84      0.84      0.84     10000\n",
      "\n"
     ]
    }
   ],
   "source": [
    "RF_clf=Pipeline([\n",
    "    \n",
    "    ('vectorizer',CountVectorizer()),\n",
    "    ('random_forrest',(RandomForestClassifier(n_estimators=50,criterion='entropy')))\n",
    "])\n",
    "\n",
    "RF_clf.fit(xtrain,ytrain)\n",
    "ypred=RF_clf.predict(xtest)\n",
    "print(classification_report(ytest,ypred))"
   ]
  }
 ],
 "metadata": {
  "kernelspec": {
   "display_name": "Python 3 (ipykernel)",
   "language": "python",
   "name": "python3"
  },
  "language_info": {
   "codemirror_mode": {
    "name": "ipython",
    "version": 3
   },
   "file_extension": ".py",
   "mimetype": "text/x-python",
   "name": "python",
   "nbconvert_exporter": "python",
   "pygments_lexer": "ipython3",
   "version": "3.9.12"
  }
 },
 "nbformat": 4,
 "nbformat_minor": 5
}
