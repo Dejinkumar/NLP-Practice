{
 "cells": [
  {
   "cell_type": "code",
   "execution_count": 6,
   "id": "51cf3c14",
   "metadata": {},
   "outputs": [
    {
     "data": {
      "text/plain": [
       "{'thor': 12,\n",
       " 'hathodawala': 2,\n",
       " 'is': 5,\n",
       " 'looking': 9,\n",
       " 'for': 0,\n",
       " 'job': 8,\n",
       " 'thor hathodawala': 13,\n",
       " 'hathodawala is': 3,\n",
       " 'is looking': 6,\n",
       " 'looking for': 10,\n",
       " 'for job': 1,\n",
       " 'thor hathodawala is': 14,\n",
       " 'hathodawala is looking': 4,\n",
       " 'is looking for': 7,\n",
       " 'looking for job': 11}"
      ]
     },
     "execution_count": 6,
     "metadata": {},
     "output_type": "execute_result"
    }
   ],
   "source": [
    "from sklearn.feature_extraction.text import CountVectorizer\n",
    "\n",
    "v=CountVectorizer(ngram_range=(1,3))\n",
    "v.fit([\"Thor Hathodawala is looking for a job\"])\n",
    "v.vocabulary_"
   ]
  },
  {
   "cell_type": "code",
   "execution_count": 7,
   "id": "54c68ee1",
   "metadata": {},
   "outputs": [],
   "source": [
    " corpus=[\n",
    "     \n",
    "     \"Thor ate pizza\",\n",
    "     \"Loki is tall\",\n",
    "     \"Loki is eating pizza\"\n",
    " ]"
   ]
  },
  {
   "cell_type": "code",
   "execution_count": 8,
   "id": "4b2e95d5",
   "metadata": {},
   "outputs": [],
   "source": [
    "import spacy"
   ]
  },
  {
   "cell_type": "code",
   "execution_count": 12,
   "id": "650a1034",
   "metadata": {},
   "outputs": [],
   "source": [
    "nlp=spacy.load(\"en_core_web_sm\")\n",
    "\n",
    "def preprocess(text):\n",
    "    doc=nlp(text)\n",
    "    \n",
    "    filltered_tokens=[]\n",
    "    for token in doc:\n",
    "        if token.is_stop or token.is_punct:\n",
    "            continue\n",
    "        filltered_tokens.append(token.lemma_)\n",
    "        \n",
    "        \n",
    "    return \" \".join(filltered_tokens)\n",
    "\n"
   ]
  },
  {
   "cell_type": "code",
   "execution_count": 15,
   "id": "490f29c0",
   "metadata": {},
   "outputs": [
    {
     "data": {
      "text/plain": [
       "'Loki eat pizza'"
      ]
     },
     "execution_count": 15,
     "metadata": {},
     "output_type": "execute_result"
    }
   ],
   "source": [
    "preprocess(\"Loki is eating pizza\")"
   ]
  },
  {
   "cell_type": "code",
   "execution_count": 16,
   "id": "a9f0740b",
   "metadata": {},
   "outputs": [
    {
     "data": {
      "text/plain": [
       "['Thor eat pizza', 'Loki tall', 'Loki eat pizza']"
      ]
     },
     "execution_count": 16,
     "metadata": {},
     "output_type": "execute_result"
    }
   ],
   "source": [
    "corpus_preprocess=[preprocess(text) for text in corpus]\n",
    "corpus_preprocess"
   ]
  },
  {
   "cell_type": "code",
   "execution_count": 18,
   "id": "ca0013ed",
   "metadata": {},
   "outputs": [
    {
     "data": {
      "text/plain": [
       "{'thor': 7,\n",
       " 'eat': 0,\n",
       " 'pizza': 5,\n",
       " 'thor eat': 8,\n",
       " 'eat pizza': 1,\n",
       " 'loki': 2,\n",
       " 'tall': 6,\n",
       " 'loki tall': 4,\n",
       " 'loki eat': 3}"
      ]
     },
     "execution_count": 18,
     "metadata": {},
     "output_type": "execute_result"
    }
   ],
   "source": [
    "v=CountVectorizer(ngram_range=(1,2))\n",
    "v.fit(corpus_preprocess)\n",
    "v.vocabulary_"
   ]
  },
  {
   "cell_type": "code",
   "execution_count": 20,
   "id": "dc0a86a7",
   "metadata": {},
   "outputs": [
    {
     "data": {
      "text/plain": [
       "array([[1, 1, 0, 0, 0, 1, 0, 1, 1]], dtype=int64)"
      ]
     },
     "execution_count": 20,
     "metadata": {},
     "output_type": "execute_result"
    }
   ],
   "source": [
    "v.transform([\"thor eat pizza\"]).toarray()"
   ]
  },
  {
   "cell_type": "code",
   "execution_count": 21,
   "id": "2ccace1a",
   "metadata": {},
   "outputs": [],
   "source": [
    "import pandas as pd\n",
    "data=pd.read_csv(\"NewsCategorizer.csv\")"
   ]
  },
  {
   "cell_type": "code",
   "execution_count": 22,
   "id": "ba7698d2",
   "metadata": {},
   "outputs": [
    {
     "data": {
      "text/html": [
       "<div>\n",
       "<style scoped>\n",
       "    .dataframe tbody tr th:only-of-type {\n",
       "        vertical-align: middle;\n",
       "    }\n",
       "\n",
       "    .dataframe tbody tr th {\n",
       "        vertical-align: top;\n",
       "    }\n",
       "\n",
       "    .dataframe thead th {\n",
       "        text-align: right;\n",
       "    }\n",
       "</style>\n",
       "<table border=\"1\" class=\"dataframe\">\n",
       "  <thead>\n",
       "    <tr style=\"text-align: right;\">\n",
       "      <th></th>\n",
       "      <th>category</th>\n",
       "      <th>headline</th>\n",
       "      <th>links</th>\n",
       "      <th>short_description</th>\n",
       "      <th>keywords</th>\n",
       "    </tr>\n",
       "  </thead>\n",
       "  <tbody>\n",
       "    <tr>\n",
       "      <th>0</th>\n",
       "      <td>WELLNESS</td>\n",
       "      <td>143 Miles in 35 Days: Lessons Learned</td>\n",
       "      <td>https://www.huffingtonpost.com/entry/running-l...</td>\n",
       "      <td>Resting is part of training. I've confirmed wh...</td>\n",
       "      <td>running-lessons</td>\n",
       "    </tr>\n",
       "    <tr>\n",
       "      <th>1</th>\n",
       "      <td>WELLNESS</td>\n",
       "      <td>Talking to Yourself: Crazy or Crazy Helpful?</td>\n",
       "      <td>https://www.huffingtonpost.com/entry/talking-t...</td>\n",
       "      <td>Think of talking to yourself as a tool to coac...</td>\n",
       "      <td>talking-to-yourself-crazy</td>\n",
       "    </tr>\n",
       "    <tr>\n",
       "      <th>2</th>\n",
       "      <td>WELLNESS</td>\n",
       "      <td>Crenezumab: Trial Will Gauge Whether Alzheimer...</td>\n",
       "      <td>https://www.huffingtonpost.com/entry/crenezuma...</td>\n",
       "      <td>The clock is ticking for the United States to ...</td>\n",
       "      <td>crenezumab-alzheimers-disease-drug</td>\n",
       "    </tr>\n",
       "    <tr>\n",
       "      <th>3</th>\n",
       "      <td>WELLNESS</td>\n",
       "      <td>Oh, What a Difference She Made</td>\n",
       "      <td>https://www.huffingtonpost.com/entry/meaningfu...</td>\n",
       "      <td>If you want to be busy, keep trying to be perf...</td>\n",
       "      <td>meaningful-life</td>\n",
       "    </tr>\n",
       "    <tr>\n",
       "      <th>4</th>\n",
       "      <td>WELLNESS</td>\n",
       "      <td>Green Superfoods</td>\n",
       "      <td>https://www.huffingtonpost.com/entry/green-sup...</td>\n",
       "      <td>First, the bad news: Soda bread, corned beef a...</td>\n",
       "      <td>green-superfoods</td>\n",
       "    </tr>\n",
       "  </tbody>\n",
       "</table>\n",
       "</div>"
      ],
      "text/plain": [
       "   category                                           headline  \\\n",
       "0  WELLNESS              143 Miles in 35 Days: Lessons Learned   \n",
       "1  WELLNESS       Talking to Yourself: Crazy or Crazy Helpful?   \n",
       "2  WELLNESS  Crenezumab: Trial Will Gauge Whether Alzheimer...   \n",
       "3  WELLNESS                     Oh, What a Difference She Made   \n",
       "4  WELLNESS                                   Green Superfoods   \n",
       "\n",
       "                                               links  \\\n",
       "0  https://www.huffingtonpost.com/entry/running-l...   \n",
       "1  https://www.huffingtonpost.com/entry/talking-t...   \n",
       "2  https://www.huffingtonpost.com/entry/crenezuma...   \n",
       "3  https://www.huffingtonpost.com/entry/meaningfu...   \n",
       "4  https://www.huffingtonpost.com/entry/green-sup...   \n",
       "\n",
       "                                   short_description  \\\n",
       "0  Resting is part of training. I've confirmed wh...   \n",
       "1  Think of talking to yourself as a tool to coac...   \n",
       "2  The clock is ticking for the United States to ...   \n",
       "3  If you want to be busy, keep trying to be perf...   \n",
       "4  First, the bad news: Soda bread, corned beef a...   \n",
       "\n",
       "                             keywords  \n",
       "0                     running-lessons  \n",
       "1           talking-to-yourself-crazy  \n",
       "2  crenezumab-alzheimers-disease-drug  \n",
       "3                     meaningful-life  \n",
       "4                    green-superfoods  "
      ]
     },
     "execution_count": 22,
     "metadata": {},
     "output_type": "execute_result"
    }
   ],
   "source": [
    "data.head()"
   ]
  },
  {
   "cell_type": "code",
   "execution_count": 25,
   "id": "b0418839",
   "metadata": {},
   "outputs": [],
   "source": [
    "data=data.drop(['links','short_description','keywords'],axis=True)"
   ]
  },
  {
   "cell_type": "code",
   "execution_count": 27,
   "id": "39b8a20b",
   "metadata": {},
   "outputs": [
    {
     "data": {
      "text/plain": [
       "(50000, 2)"
      ]
     },
     "execution_count": 27,
     "metadata": {},
     "output_type": "execute_result"
    }
   ],
   "source": [
    "data.shape"
   ]
  },
  {
   "cell_type": "code",
   "execution_count": 28,
   "id": "62c19d65",
   "metadata": {},
   "outputs": [
    {
     "data": {
      "text/plain": [
       "category\n",
       "BUSINESS          5000\n",
       "ENTERTAINMENT     5000\n",
       "FOOD & DRINK      5000\n",
       "PARENTING         5000\n",
       "POLITICS          5000\n",
       "SPORTS            5000\n",
       "STYLE & BEAUTY    5000\n",
       "TRAVEL            5000\n",
       "WELLNESS          5000\n",
       "WORLD NEWS        5000\n",
       "dtype: int64"
      ]
     },
     "execution_count": 28,
     "metadata": {},
     "output_type": "execute_result"
    }
   ],
   "source": [
    "data.groupby('category').size()"
   ]
  },
  {
   "cell_type": "code",
   "execution_count": 33,
   "id": "e1f65f45",
   "metadata": {},
   "outputs": [],
   "source": [
    "min_sample=1000\n",
    "\n",
    "df_BUSINESS=data[data.category==\"BUSINESS\"].sample(min_sample,random_state=2022)\n",
    "df_ENTERTAINMENT=data[data.category==\"ENTERTAINMENT\"].sample(min_sample,random_state=2022)\n",
    "df_FOOD_DRINK=data[data.category==\"FOOD & DRINK\"].sample(min_sample,random_state=2022)\n",
    "df_PARENTING=data[data.category==\"PARENTING\"].sample(min_sample,random_state=2022)\n",
    "df_POLITICS=data[data.category==\"POLITICS\"].sample(min_sample,random_state=2022)\n",
    "df_SPORTS=data[data.category==\"SPORTS\"].sample(min_sample,random_state=2022)\n",
    "df_STYLE_BEAUTY =data[data.category==\"STYLE & BEAUTY\"].sample(min_sample,random_state=2022)\n",
    "df_TRAVEL=data[data.category==\"TRAVEL\"].sample(min_sample,random_state=2022)\n",
    "df_WELLNESS=data[data.category==\"WELLNESS\"].sample(min_sample,random_state=2022)\n",
    "df_WORLD_NEWS=data[data.category==\"WORLD NEWS\"].sample(min_sample,random_state=2022)\n"
   ]
  },
  {
   "cell_type": "code",
   "execution_count": 34,
   "id": "871d65a6",
   "metadata": {},
   "outputs": [
    {
     "data": {
      "text/plain": [
       "BUSINESS          1000\n",
       "ENTERTAINMENT     1000\n",
       "FOOD & DRINK      1000\n",
       "PARENTING         1000\n",
       "POLITICS          1000\n",
       "SPORTS            1000\n",
       "STYLE & BEAUTY    1000\n",
       "TRAVEL            1000\n",
       "WELLNESS          1000\n",
       "WORLD NEWS        1000\n",
       "Name: category, dtype: int64"
      ]
     },
     "execution_count": 34,
     "metadata": {},
     "output_type": "execute_result"
    }
   ],
   "source": [
    "df_balanced=pd.concat([df_BUSINESS,df_ENTERTAINMENT,df_FOOD_DRINK,df_PARENTING,df_POLITICS,df_SPORTS,df_STYLE_BEAUTY,df_TRAVEL,df_WELLNESS,df_WORLD_NEWS],axis=0)\n",
    "df_balanced.category.value_counts()"
   ]
  },
  {
   "cell_type": "code",
   "execution_count": 35,
   "id": "b63a5ea7",
   "metadata": {},
   "outputs": [],
   "source": [
    "df_balanced['category_num']=df_balanced.category.map({\n",
    "\n",
    "'BUSINESS':0,       \n",
    "'ENTERTAINMENT':1,     \n",
    "'FOOD & DRINK':2,      \n",
    "'PARENTING':3,         \n",
    "'POLITICS':4,          \n",
    "'SPORTS':5,            \n",
    "'STYLE & BEAUTY':6,    \n",
    "'TRAVEL':7,            \n",
    "'WELLNESS':8,          \n",
    "'WORLD NEWS':9        \n",
    "})"
   ]
  },
  {
   "cell_type": "code",
   "execution_count": 36,
   "id": "f6973891",
   "metadata": {},
   "outputs": [
    {
     "data": {
      "text/html": [
       "<div>\n",
       "<style scoped>\n",
       "    .dataframe tbody tr th:only-of-type {\n",
       "        vertical-align: middle;\n",
       "    }\n",
       "\n",
       "    .dataframe tbody tr th {\n",
       "        vertical-align: top;\n",
       "    }\n",
       "\n",
       "    .dataframe thead th {\n",
       "        text-align: right;\n",
       "    }\n",
       "</style>\n",
       "<table border=\"1\" class=\"dataframe\">\n",
       "  <thead>\n",
       "    <tr style=\"text-align: right;\">\n",
       "      <th></th>\n",
       "      <th>category</th>\n",
       "      <th>headline</th>\n",
       "      <th>category_num</th>\n",
       "    </tr>\n",
       "  </thead>\n",
       "  <tbody>\n",
       "    <tr>\n",
       "      <th>43419</th>\n",
       "      <td>BUSINESS</td>\n",
       "      <td>MasterCard Wants You To Pay For Stuff With Sel...</td>\n",
       "      <td>0</td>\n",
       "    </tr>\n",
       "    <tr>\n",
       "      <th>40178</th>\n",
       "      <td>BUSINESS</td>\n",
       "      <td>Tesla's Nightmare Month Just Keeps Getting Worse</td>\n",
       "      <td>0</td>\n",
       "    </tr>\n",
       "    <tr>\n",
       "      <th>43721</th>\n",
       "      <td>BUSINESS</td>\n",
       "      <td>What's the Future of Retail Banking?</td>\n",
       "      <td>0</td>\n",
       "    </tr>\n",
       "    <tr>\n",
       "      <th>43087</th>\n",
       "      <td>BUSINESS</td>\n",
       "      <td>Investing Facts You Probably Don't Know</td>\n",
       "      <td>0</td>\n",
       "    </tr>\n",
       "    <tr>\n",
       "      <th>43685</th>\n",
       "      <td>BUSINESS</td>\n",
       "      <td>Women in Business: Doris Greif, Regional Vice ...</td>\n",
       "      <td>0</td>\n",
       "    </tr>\n",
       "  </tbody>\n",
       "</table>\n",
       "</div>"
      ],
      "text/plain": [
       "       category                                           headline  \\\n",
       "43419  BUSINESS  MasterCard Wants You To Pay For Stuff With Sel...   \n",
       "40178  BUSINESS   Tesla's Nightmare Month Just Keeps Getting Worse   \n",
       "43721  BUSINESS               What's the Future of Retail Banking?   \n",
       "43087  BUSINESS            Investing Facts You Probably Don't Know   \n",
       "43685  BUSINESS  Women in Business: Doris Greif, Regional Vice ...   \n",
       "\n",
       "       category_num  \n",
       "43419             0  \n",
       "40178             0  \n",
       "43721             0  \n",
       "43087             0  \n",
       "43685             0  "
      ]
     },
     "execution_count": 36,
     "metadata": {},
     "output_type": "execute_result"
    }
   ],
   "source": [
    "df_balanced.head()"
   ]
  },
  {
   "cell_type": "code",
   "execution_count": 39,
   "id": "4f0af849",
   "metadata": {},
   "outputs": [],
   "source": [
    "from sklearn.model_selection import train_test_split\n",
    "\n",
    "x_train,x_test,y_train,y_test=train_test_split(\n",
    "\n",
    "\n",
    "    df_balanced.headline,\n",
    "    df_balanced.category_num,\n",
    "    test_size=0.2,\n",
    "    random_state=2022,\n",
    "    stratify=df_balanced.category_num\n",
    ")"
   ]
  },
  {
   "cell_type": "code",
   "execution_count": 40,
   "id": "3e2be27a",
   "metadata": {},
   "outputs": [
    {
     "name": "stdout",
     "output_type": "stream",
     "text": [
      "(8000,)\n"
     ]
    },
    {
     "data": {
      "text/plain": [
       "38248    MH370 Report Finds Plane Was In Rapid Descent ...\n",
       "22261    Behind Madonna's Super Bowl Half Time Performa...\n",
       "15790                Summer Travel Tipping Recommendations\n",
       "41799    Minimum Wage For Restaurant Servers Remains St...\n",
       "13692    Jennifer Lawrence Is Working On A TV Series In...\n",
       "Name: headline, dtype: object"
      ]
     },
     "execution_count": 40,
     "metadata": {},
     "output_type": "execute_result"
    }
   ],
   "source": [
    "print(x_train.shape)\n",
    "x_train.head()"
   ]
  },
  {
   "cell_type": "code",
   "execution_count": 42,
   "id": "e362c099",
   "metadata": {},
   "outputs": [
    {
     "data": {
      "text/plain": [
       "9    800\n",
       "6    800\n",
       "7    800\n",
       "0    800\n",
       "1    800\n",
       "5    800\n",
       "8    800\n",
       "4    800\n",
       "2    800\n",
       "3    800\n",
       "Name: category_num, dtype: int64"
      ]
     },
     "execution_count": 42,
     "metadata": {},
     "output_type": "execute_result"
    }
   ],
   "source": [
    "y_train.value_counts()"
   ]
  },
  {
   "cell_type": "code",
   "execution_count": 44,
   "id": "9c630c3b",
   "metadata": {},
   "outputs": [
    {
     "name": "stdout",
     "output_type": "stream",
     "text": [
      "              precision    recall  f1-score   support\n",
      "\n",
      "           0       0.68      0.62      0.65       200\n",
      "           1       0.62      0.65      0.63       200\n",
      "           2       0.83      0.77      0.80       200\n",
      "           3       0.60      0.71      0.65       200\n",
      "           4       0.70      0.70      0.70       200\n",
      "           5       0.81      0.78      0.79       200\n",
      "           6       0.76      0.84      0.80       200\n",
      "           7       0.67      0.62      0.64       200\n",
      "           8       0.65      0.60      0.62       200\n",
      "           9       0.73      0.73      0.73       200\n",
      "\n",
      "    accuracy                           0.70      2000\n",
      "   macro avg       0.70      0.70      0.70      2000\n",
      "weighted avg       0.70      0.70      0.70      2000\n",
      "\n"
     ]
    }
   ],
   "source": [
    "from sklearn.naive_bayes import MultinomialNB\n",
    "from sklearn.pipeline import Pipeline\n",
    "from sklearn.metrics import classification_report\n",
    "\n",
    "\n",
    "clf = Pipeline([\n",
    "    \n",
    "    ('vectorizer_bow',CountVectorizer()),\n",
    "    ('Multi NB',MultinomialNB())\n",
    "])\n",
    "\n",
    "\n",
    "clf.fit(x_train,y_train)\n",
    "y_pred=clf.predict(x_test)\n",
    "print(classification_report(y_test,y_pred))"
   ]
  },
  {
   "cell_type": "code",
   "execution_count": 45,
   "id": "3f64351d",
   "metadata": {},
   "outputs": [
    {
     "name": "stdout",
     "output_type": "stream",
     "text": [
      "              precision    recall  f1-score   support\n",
      "\n",
      "           0       0.71      0.64      0.67       200\n",
      "           1       0.61      0.69      0.65       200\n",
      "           2       0.81      0.74      0.78       200\n",
      "           3       0.60      0.67      0.63       200\n",
      "           4       0.70      0.70      0.70       200\n",
      "           5       0.82      0.83      0.83       200\n",
      "           6       0.75      0.83      0.79       200\n",
      "           7       0.64      0.61      0.63       200\n",
      "           8       0.65      0.56      0.60       200\n",
      "           9       0.72      0.73      0.72       200\n",
      "\n",
      "    accuracy                           0.70      2000\n",
      "   macro avg       0.70      0.70      0.70      2000\n",
      "weighted avg       0.70      0.70      0.70      2000\n",
      "\n"
     ]
    }
   ],
   "source": [
    "from sklearn.naive_bayes import MultinomialNB\n",
    "from sklearn.pipeline import Pipeline\n",
    "from sklearn.metrics import classification_report\n",
    "\n",
    "\n",
    "clf = Pipeline([\n",
    "    \n",
    "    ('vectorizer_bow',CountVectorizer(ngram_range = (1,2))),\n",
    "    ('Multi NB',MultinomialNB())\n",
    "])\n",
    "\n",
    "\n",
    "clf.fit(x_train,y_train)\n",
    "y_pred=clf.predict(x_test)\n",
    "print(classification_report(y_test,y_pred))"
   ]
  },
  {
   "cell_type": "code",
   "execution_count": 46,
   "id": "0f794f27",
   "metadata": {},
   "outputs": [
    {
     "data": {
      "text/plain": [
       "21291    Brunettes Are Having The Best Week Ever On Our...\n",
       "31230                      Cocktails for Spring's Kick-Off\n",
       "27657    The Moment I Realized Our Struggles Weren't Go...\n",
       "34712    Easy Cooking Tip: Mise En Place Will Keep You ...\n",
       "41200    Thanks, Obama, For Confirming That It's Totall...\n",
       "Name: headline, dtype: object"
      ]
     },
     "execution_count": 46,
     "metadata": {},
     "output_type": "execute_result"
    }
   ],
   "source": [
    "x_test[:5]"
   ]
  },
  {
   "cell_type": "code",
   "execution_count": 47,
   "id": "52786612",
   "metadata": {},
   "outputs": [
    {
     "data": {
      "text/plain": [
       "21291    6\n",
       "31230    2\n",
       "27657    3\n",
       "34712    2\n",
       "41200    0\n",
       "Name: category_num, dtype: int64"
      ]
     },
     "execution_count": 47,
     "metadata": {},
     "output_type": "execute_result"
    }
   ],
   "source": [
    "y_test[:5]"
   ]
  },
  {
   "cell_type": "code",
   "execution_count": 48,
   "id": "147a0099",
   "metadata": {},
   "outputs": [
    {
     "data": {
      "text/plain": [
       "array([6, 2, 3, 2, 4], dtype=int64)"
      ]
     },
     "execution_count": 48,
     "metadata": {},
     "output_type": "execute_result"
    }
   ],
   "source": [
    "y_pred[:5]"
   ]
  },
  {
   "cell_type": "code",
   "execution_count": 49,
   "id": "9ff16f3f",
   "metadata": {},
   "outputs": [],
   "source": [
    "df_balanced['preprocessed_txt']=df_balanced.headline.apply(preprocess)"
   ]
  },
  {
   "cell_type": "code",
   "execution_count": 50,
   "id": "81214a89",
   "metadata": {},
   "outputs": [
    {
     "data": {
      "text/html": [
       "<div>\n",
       "<style scoped>\n",
       "    .dataframe tbody tr th:only-of-type {\n",
       "        vertical-align: middle;\n",
       "    }\n",
       "\n",
       "    .dataframe tbody tr th {\n",
       "        vertical-align: top;\n",
       "    }\n",
       "\n",
       "    .dataframe thead th {\n",
       "        text-align: right;\n",
       "    }\n",
       "</style>\n",
       "<table border=\"1\" class=\"dataframe\">\n",
       "  <thead>\n",
       "    <tr style=\"text-align: right;\">\n",
       "      <th></th>\n",
       "      <th>category</th>\n",
       "      <th>headline</th>\n",
       "      <th>category_num</th>\n",
       "      <th>preprocessed_txt</th>\n",
       "    </tr>\n",
       "  </thead>\n",
       "  <tbody>\n",
       "    <tr>\n",
       "      <th>43419</th>\n",
       "      <td>BUSINESS</td>\n",
       "      <td>MasterCard Wants You To Pay For Stuff With Sel...</td>\n",
       "      <td>0</td>\n",
       "      <td>MasterCard want pay stuff selfie</td>\n",
       "    </tr>\n",
       "    <tr>\n",
       "      <th>40178</th>\n",
       "      <td>BUSINESS</td>\n",
       "      <td>Tesla's Nightmare Month Just Keeps Getting Worse</td>\n",
       "      <td>0</td>\n",
       "      <td>Tesla Nightmare Month keep get bad</td>\n",
       "    </tr>\n",
       "    <tr>\n",
       "      <th>43721</th>\n",
       "      <td>BUSINESS</td>\n",
       "      <td>What's the Future of Retail Banking?</td>\n",
       "      <td>0</td>\n",
       "      <td>Future Retail Banking</td>\n",
       "    </tr>\n",
       "    <tr>\n",
       "      <th>43087</th>\n",
       "      <td>BUSINESS</td>\n",
       "      <td>Investing Facts You Probably Don't Know</td>\n",
       "      <td>0</td>\n",
       "      <td>invest fact probably know</td>\n",
       "    </tr>\n",
       "    <tr>\n",
       "      <th>43685</th>\n",
       "      <td>BUSINESS</td>\n",
       "      <td>Women in Business: Doris Greif, Regional Vice ...</td>\n",
       "      <td>0</td>\n",
       "      <td>woman Business Doris Greif Regional Vice Presi...</td>\n",
       "    </tr>\n",
       "  </tbody>\n",
       "</table>\n",
       "</div>"
      ],
      "text/plain": [
       "       category                                           headline  \\\n",
       "43419  BUSINESS  MasterCard Wants You To Pay For Stuff With Sel...   \n",
       "40178  BUSINESS   Tesla's Nightmare Month Just Keeps Getting Worse   \n",
       "43721  BUSINESS               What's the Future of Retail Banking?   \n",
       "43087  BUSINESS            Investing Facts You Probably Don't Know   \n",
       "43685  BUSINESS  Women in Business: Doris Greif, Regional Vice ...   \n",
       "\n",
       "       category_num                                   preprocessed_txt  \n",
       "43419             0                   MasterCard want pay stuff selfie  \n",
       "40178             0                 Tesla Nightmare Month keep get bad  \n",
       "43721             0                              Future Retail Banking  \n",
       "43087             0                          invest fact probably know  \n",
       "43685             0  woman Business Doris Greif Regional Vice Presi...  "
      ]
     },
     "execution_count": 50,
     "metadata": {},
     "output_type": "execute_result"
    }
   ],
   "source": [
    "df_balanced.head()"
   ]
  },
  {
   "cell_type": "code",
   "execution_count": 51,
   "id": "bb80b541",
   "metadata": {},
   "outputs": [
    {
     "name": "stdout",
     "output_type": "stream",
     "text": [
      "              precision    recall  f1-score   support\n",
      "\n",
      "           0       0.67      0.64      0.65       200\n",
      "           1       0.71      0.66      0.68       200\n",
      "           2       0.79      0.78      0.78       200\n",
      "           3       0.69      0.72      0.70       200\n",
      "           4       0.69      0.69      0.69       200\n",
      "           5       0.76      0.85      0.80       200\n",
      "           6       0.70      0.88      0.78       200\n",
      "           7       0.71      0.61      0.66       200\n",
      "           8       0.69      0.55      0.61       200\n",
      "           9       0.72      0.74      0.73       200\n",
      "\n",
      "    accuracy                           0.71      2000\n",
      "   macro avg       0.71      0.71      0.71      2000\n",
      "weighted avg       0.71      0.71      0.71      2000\n",
      "\n"
     ]
    }
   ],
   "source": [
    "x_train,x_test,y_train,y_test=train_test_split(\n",
    "\n",
    "\n",
    "    df_balanced.preprocessed_txt,\n",
    "    df_balanced.category_num,\n",
    "    test_size=0.2,\n",
    "    random_state=2022,\n",
    "    stratify=df_balanced.category_num\n",
    ")\n",
    "\n",
    "\n",
    "clf = Pipeline([\n",
    "    \n",
    "    ('vectorizer_bow',CountVectorizer(ngram_range = (1,2))),\n",
    "    ('Multi NB',MultinomialNB())\n",
    "])\n",
    "\n",
    "\n",
    "clf.fit(x_train,y_train)\n",
    "y_pred=clf.predict(x_test)\n",
    "print(classification_report(y_test,y_pred))"
   ]
  },
  {
   "cell_type": "code",
   "execution_count": 52,
   "id": "ce379ed2",
   "metadata": {},
   "outputs": [
    {
     "data": {
      "text/plain": [
       "array([[128,   5,   5,  11,  17,   8,   2,   7,  11,   6],\n",
       "       [  4, 132,   7,   8,   6,  13,  15,   4,   7,   4],\n",
       "       [  4,   2, 155,   6,   1,   3,  13,   8,   8,   0],\n",
       "       [  5,   6,   5, 144,   4,   8,   6,   6,  11,   5],\n",
       "       [ 13,   8,   1,   6, 138,   9,   2,   2,   3,  18],\n",
       "       [  2,   6,   0,   4,   6, 170,   7,   3,   1,   1],\n",
       "       [  5,   4,   0,   3,   1,   2, 176,   4,   3,   2],\n",
       "       [  8,   7,   7,  10,   6,   5,  17, 123,   4,  13],\n",
       "       [ 15,   9,  17,  13,   6,   2,  13,   7, 109,   9],\n",
       "       [  8,   8,   0,   4,  15,   5,   1,   9,   1, 149]], dtype=int64)"
      ]
     },
     "execution_count": 52,
     "metadata": {},
     "output_type": "execute_result"
    }
   ],
   "source": [
    "from sklearn.metrics import confusion_matrix\n",
    "cm=confusion_matrix(y_test,y_pred)\n",
    "cm"
   ]
  },
  {
   "cell_type": "code",
   "execution_count": 53,
   "id": "5c94c293",
   "metadata": {},
   "outputs": [
    {
     "data": {
      "text/plain": [
       "Text(69.0, 0.5, 'Truth')"
      ]
     },
     "execution_count": 53,
     "metadata": {},
     "output_type": "execute_result"
    },
    {
     "data": {
      "image/png": "[encoded data removed]",
      "text/plain": [
       "<Figure size 720x504 with 2 Axes>"
      ]
     },
     "metadata": {
      "needs_background": "light"
     },
     "output_type": "display_data"
    }
   ],
   "source": [
    "import matplotlib.pyplot as plt\n",
    "import seaborn as sn\n",
    "plt.figure(figsize=(10,7))\n",
    "sn.heatmap(cm,annot=True,fmt='d')\n",
    "plt.xlabel('Prediction')\n",
    "plt.ylabel('Truth')"
   ]
  },
  {
   "cell_type": "code",
   "execution_count": null,
   "id": "599fb8f8",
   "metadata": {},
   "outputs": [],
   "source": [
    " "
   ]
  }
 ],
 "metadata": {
  "kernelspec": {
   "display_name": "Python 3 (ipykernel)",
   "language": "python",
   "name": "python3"
  },
  "language_info": {
   "codemirror_mode": {
    "name": "ipython",
    "version": 3
   },
   "file_extension": ".py",
   "mimetype": "text/x-python",
   "name": "python",
   "nbconvert_exporter": "python",
   "pygments_lexer": "ipython3",
   "version": "3.9.12"
  }
 },
 "nbformat": 4,
 "nbformat_minor": 5
}
