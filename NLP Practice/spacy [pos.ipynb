{
 "cells": [
  {
   "cell_type": "code",
   "execution_count": 1,
   "id": "7227c16d",
   "metadata": {},
   "outputs": [],
   "source": [
    "import spacy"
   ]
  },
  {
   "cell_type": "code",
   "execution_count": 2,
   "id": "5fcd5a6a",
   "metadata": {},
   "outputs": [],
   "source": [
    "nlp=spacy.load(\"en_core_web_sm\")"
   ]
  },
  {
   "cell_type": "code",
   "execution_count": 7,
   "id": "3bae58ab",
   "metadata": {},
   "outputs": [
    {
     "name": "stdout",
     "output_type": "stream",
     "text": [
      "Elon | PROPN | proper noun  |  NNP  |  noun, proper singular\n",
      "flew | VERB | verb  |  VBD  |  verb, past tense\n",
      "to | ADP | adposition  |  IN  |  conjunction, subordinating or preposition\n",
      "mars | NOUN | noun  |  NNS  |  noun, plural\n",
      "yesterday | NOUN | noun  |  NN  |  noun, singular or mass\n",
      ". | PUNCT | punctuation  |  .  |  punctuation mark, sentence closer\n",
      "He | PRON | pronoun  |  PRP  |  pronoun, personal\n",
      "carried | VERB | verb  |  VBD  |  verb, past tense\n",
      "biryani | NOUN | noun  |  NN  |  noun, singular or mass\n",
      "masala | NOUN | noun  |  NN  |  noun, singular or mass\n",
      "with | ADP | adposition  |  IN  |  conjunction, subordinating or preposition\n",
      "him | PRON | pronoun  |  PRP  |  pronoun, personal\n"
     ]
    }
   ],
   "source": [
    "doc=nlp(\"Elon flew to mars yesterday.He carried biryani masala with him\")\n",
    "for token in doc:\n",
    "    print(token,\"|\",token.pos_,\"|\",spacy.explain(token.pos_),\" | \",token.tag_,\" | \",spacy.explain(token.tag_))"
   ]
  },
  {
   "cell_type": "code",
   "execution_count": 9,
   "id": "8ecd3575",
   "metadata": {},
   "outputs": [],
   "source": [
    "earnings_text=\"\"\"Microsoft Corp. today announced the following results for the quarter ended December 31, 2021, as compared to the corresponding period of last fiscal year:\n",
    "\n",
    "·         Revenue was $51.7 billion and increased 20%\n",
    "·         Operating income was $22.2 billion and increased 24%\n",
    "·         Net income was $18.8 billion and increased 21%\n",
    "·         Diluted earnings per share was $2.48 and increased 22%\n",
    "“Digital technology is the most malleable resource at the world’s disposal to overcome constraints and reimagine everyday work and life,” said Satya Nadella, chairman and chief executive officer of Microsoft. “As tech as a percentage of global GDP continues to increase, we are innovating and investing across diverse and growing markets, with a common underlying technology stack and an operating model that reinforces a common strategy, culture, and sense of purpose.”\n",
    "“Solid commercial execution, represented by strong bookings growth driven by long-term Azure commitments, increased Microsoft Cloud revenue to $22.1 billion, up 32% year over year” said Amy Hood, executive vice president and chief financial officer of Microsoft.\"\"\"\n",
    "\n"
   ]
  },
  {
   "cell_type": "code",
   "execution_count": 11,
   "id": "a73348f2",
   "metadata": {},
   "outputs": [],
   "source": [
    "doc = nlp(earnings_text)\n",
    "filltered_token=[]\n",
    "for token in doc:\n",
    "    if token.pos_ not in[\"X\",\"SPACE\",\"PUNCT\"]:\n",
    "        filltered_token.append(token)"
   ]
  },
  {
   "cell_type": "code",
   "execution_count": 12,
   "id": "ecc19cc5",
   "metadata": {},
   "outputs": [
    {
     "data": {
      "text/plain": [
       "[Microsoft,\n",
       " Corp.,\n",
       " today,\n",
       " announced,\n",
       " the,\n",
       " following,\n",
       " results,\n",
       " for,\n",
       " the,\n",
       " quarter,\n",
       " ended,\n",
       " December,\n",
       " 31,\n",
       " 2021,\n",
       " as,\n",
       " compared,\n",
       " to,\n",
       " the,\n",
       " corresponding,\n",
       " period]"
      ]
     },
     "execution_count": 12,
     "metadata": {},
     "output_type": "execute_result"
    }
   ],
   "source": [
    "filltered_token[:20]"
   ]
  },
  {
   "cell_type": "code",
   "execution_count": 16,
   "id": "b5a724dc",
   "metadata": {},
   "outputs": [
    {
     "data": {
      "text/plain": [
       "{96: 15,\n",
       " 92: 45,\n",
       " 100: 22,\n",
       " 90: 9,\n",
       " 85: 16,\n",
       " 93: 16,\n",
       " 97: 27,\n",
       " 98: 1,\n",
       " 84: 21,\n",
       " 103: 10,\n",
       " 87: 6,\n",
       " 99: 5,\n",
       " 89: 12,\n",
       " 86: 3,\n",
       " 94: 3,\n",
       " 95: 2}"
      ]
     },
     "execution_count": 16,
     "metadata": {},
     "output_type": "execute_result"
    }
   ],
   "source": [
    "count=doc.count_by(spacy.attrs.POS)\n",
    "count"
   ]
  },
  {
   "cell_type": "code",
   "execution_count": 17,
   "id": "5fb3db0f",
   "metadata": {},
   "outputs": [
    {
     "data": {
      "text/plain": [
       "'PROPN'"
      ]
     },
     "execution_count": 17,
     "metadata": {},
     "output_type": "execute_result"
    }
   ],
   "source": [
    "doc.vocab[96].text"
   ]
  },
  {
   "cell_type": "code",
   "execution_count": 18,
   "id": "004f26b4",
   "metadata": {},
   "outputs": [
    {
     "name": "stdout",
     "output_type": "stream",
     "text": [
      "PROPN  |  15\n",
      "NOUN  |  45\n",
      "VERB  |  22\n",
      "DET  |  9\n",
      "ADP  |  16\n",
      "NUM  |  16\n",
      "PUNCT  |  27\n",
      "SCONJ  |  1\n",
      "ADJ  |  21\n",
      "SPACE  |  10\n",
      "AUX  |  6\n",
      "SYM  |  5\n",
      "CCONJ  |  12\n",
      "ADV  |  3\n",
      "PART  |  3\n",
      "PRON  |  2\n"
     ]
    }
   ],
   "source": [
    "for k,v in count.items():\n",
    "    print(doc.vocab[k].text,\" | \",v)"
   ]
  },
  {
   "cell_type": "code",
   "execution_count": 19,
   "id": "6a9889bc",
   "metadata": {},
   "outputs": [],
   "source": [
    "text=\"Inflation rose again in April, continuing a climb that has pushed consumers to the brink and is threatening the economic expansion, the Bureau of Labor Statistics reported Wednesday.\\n\\nThe consumer price index, a broad-based measure of prices for goods and services, increased 8.3% from a year ago, higher than the Dow Jones estimate for an 8.1% gain. That represented a slight ease from Marchâ€™s peak but was still close to the highest level since the summer of 1982.\\n\\nRemoving volatile food and ene\""
   ]
  },
  {
   "cell_type": "code",
   "execution_count": 29,
   "id": "0c655366",
   "metadata": {},
   "outputs": [],
   "source": [
    "doc1=nlp(text)\n",
    "noun=[]\n",
    "num=[]\n",
    "for token in doc1:\n",
    "    if token.pos_  ==\"NOUN\":\n",
    "        noun.append(token)\n",
    "    elif token.pos_ ==\"NUM\":\n",
    "        num.append(token)\n"
   ]
  },
  {
   "cell_type": "code",
   "execution_count": 31,
   "id": "0ad17ef3",
   "metadata": {},
   "outputs": [
    {
     "data": {
      "text/plain": [
       "[Inflation, rose, again, in, April]"
      ]
     },
     "execution_count": 31,
     "metadata": {},
     "output_type": "execute_result"
    }
   ],
   "source": [
    "filltered[:5]"
   ]
  },
  {
   "cell_type": "code",
   "execution_count": 30,
   "id": "6b9ead64",
   "metadata": {},
   "outputs": [
    {
     "data": {
      "text/plain": [
       "[8.3, 8.1, 1982]"
      ]
     },
     "execution_count": 30,
     "metadata": {},
     "output_type": "execute_result"
    }
   ],
   "source": [
    "num"
   ]
  },
  {
   "cell_type": "code",
   "execution_count": 33,
   "id": "b14c22d8",
   "metadata": {},
   "outputs": [
    {
     "data": {
      "text/plain": [
       "{92: 23,\n",
       " 100: 9,\n",
       " 86: 4,\n",
       " 85: 11,\n",
       " 96: 9,\n",
       " 97: 9,\n",
       " 90: 12,\n",
       " 95: 2,\n",
       " 87: 3,\n",
       " 89: 4,\n",
       " 84: 6,\n",
       " 103: 2,\n",
       " 93: 3,\n",
       " 94: 1,\n",
       " 98: 1}"
      ]
     },
     "execution_count": 33,
     "metadata": {},
     "output_type": "execute_result"
    }
   ],
   "source": [
    "count=doc1.count_by(spacy.attrs.POS)\n",
    "count"
   ]
  },
  {
   "cell_type": "code",
   "execution_count": 34,
   "id": "27fb6d17",
   "metadata": {},
   "outputs": [
    {
     "name": "stdout",
     "output_type": "stream",
     "text": [
      "NOUN  |  23\n",
      "VERB  |  9\n",
      "ADV  |  4\n",
      "ADP  |  11\n",
      "PROPN  |  9\n",
      "PUNCT  |  9\n",
      "DET  |  12\n",
      "PRON  |  2\n",
      "AUX  |  3\n",
      "CCONJ  |  4\n",
      "ADJ  |  6\n",
      "SPACE  |  2\n",
      "NUM  |  3\n",
      "PART  |  1\n",
      "SCONJ  |  1\n"
     ]
    }
   ],
   "source": [
    "for k,v in count.items():\n",
    "    print(doc.vocab[k].text,\" | \",v)"
   ]
  },
  {
   "cell_type": "code",
   "execution_count": null,
   "id": "eaad7a4c",
   "metadata": {},
   "outputs": [],
   "source": []
  }
 ],
 "metadata": {
  "kernelspec": {
   "display_name": "Python 3 (ipykernel)",
   "language": "python",
   "name": "python3"
  },
  "language_info": {
   "codemirror_mode": {
    "name": "ipython",
    "version": 3
   },
   "file_extension": ".py",
   "mimetype": "text/x-python",
   "name": "python",
   "nbconvert_exporter": "python",
   "pygments_lexer": "ipython3",
   "version": "3.9.12"
  }
 },
 "nbformat": 4,
 "nbformat_minor": 5
}
