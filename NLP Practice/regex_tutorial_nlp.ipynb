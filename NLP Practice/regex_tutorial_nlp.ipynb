{
 "cells": [
  {
   "cell_type": "code",
   "execution_count": 1,
   "id": "0fe61afd",
   "metadata": {},
   "outputs": [],
   "source": [
    "import re"
   ]
  },
  {
   "cell_type": "code",
   "execution_count": 2,
   "id": "49c5126a",
   "metadata": {},
   "outputs": [],
   "source": [
    "hat1='codebasics : you ask lots of questions  1234657386, abcdP@xyz.com,7686546798'\n",
    "hat2='codebasics : here it is : (123)-465-7356, ab_cd@xyz.com'\n",
    "hat3='codebasics : yes,phone:1234567809 email: abcd@xyz.io'"
   ]
  },
  {
   "cell_type": "code",
   "execution_count": 4,
   "id": "52496b4a",
   "metadata": {},
   "outputs": [
    {
     "data": {
      "text/plain": [
       "['(123)-465-7356']"
      ]
     },
     "execution_count": 4,
     "metadata": {},
     "output_type": "execute_result"
    }
   ],
   "source": [
    "pattern='\\d{10}|\\(\\d{3}\\)-\\d{3}-\\d{4}'\n",
    "\n",
    "matches=re.findall(pattern,hat2)\n",
    "matches"
   ]
  },
  {
   "cell_type": "code",
   "execution_count": 7,
   "id": "bdfa86f1",
   "metadata": {},
   "outputs": [
    {
     "data": {
      "text/plain": [
       "['abcdP@xyz.com']"
      ]
     },
     "execution_count": 7,
     "metadata": {},
     "output_type": "execute_result"
    }
   ],
   "source": [
    "attern1='[a-zA-Z0-9_]*@[a-zA-Z0-9]*\\.[a-zA-Z]*'\n",
    "\n",
    "atches1=re.findall(attern1,hat1)\n",
    "atches1"
   ]
  },
  {
   "cell_type": "code",
   "execution_count": 8,
   "id": "b76d3c1e",
   "metadata": {},
   "outputs": [
    {
     "data": {
      "text/plain": [
       "'abcdP@xyz.com'"
      ]
     },
     "execution_count": 8,
     "metadata": {},
     "output_type": "execute_result"
    }
   ],
   "source": [
    "mail=atches1[0]\n",
    "mail"
   ]
  },
  {
   "cell_type": "code",
   "execution_count": 9,
   "id": "f26b0418",
   "metadata": {},
   "outputs": [],
   "source": [
    "chat1='codebasics: Hello, I am having an issue with my order # 412889912'\n",
    "chat2='codebasics: I have a problem with my order number 412889912'\n",
    "chat3='codebasics: My order 412889912 is having an issue, I was charged 300$ when online it says 280$'"
   ]
  },
  {
   "cell_type": "code",
   "execution_count": 10,
   "id": "9f29323e",
   "metadata": {},
   "outputs": [
    {
     "data": {
      "text/plain": [
       "'412889912'"
      ]
     },
     "execution_count": 10,
     "metadata": {},
     "output_type": "execute_result"
    }
   ],
   "source": [
    "pattern1='order[^\\d]*(\\d*)'\n",
    "\n",
    "matches1=re.findall(pattern1,chat3)\n",
    "email=matches1[0]\n",
    "email"
   ]
  },
  {
   "cell_type": "code",
   "execution_count": 11,
   "id": "1af1c42f",
   "metadata": {},
   "outputs": [],
   "source": [
    "text=\"\"\"Born\tElon Reeve Musk\n",
    "June 28, 1971 (age 51)\n",
    "Pretoria, Transvaal, South Africa\n",
    "Education\tUniversity of Pennsylvania (BA, BS)\n",
    "Title\t\n",
    "Founder, CEO and chief engineer of SpaceX\n",
    "CEO and product architect of Tesla, Inc.\n",
    "CEO and President of Twitter, Inc.\n",
    "President of the Musk Foundation\n",
    "Founder of the Boring Company and X.com (now part of PayPal)\n",
    "Co-founder of Neuralink, OpenAI and Zip2\n",
    "Spouses\t\n",
    "Justine Wilson\n",
    "​\n",
    "​(m. 2000; div. 2008)​\n",
    "Talulah Riley\n",
    "​\n",
    "​(m. 2010; div. 2012)​\n",
    "​\n",
    "​(m. 2013; div. 2016)\"\"\""
   ]
  },
  {
   "cell_type": "code",
   "execution_count": 12,
   "id": "d83f9ecd",
   "metadata": {},
   "outputs": [
    {
     "data": {
      "text/plain": [
       "'51'"
      ]
     },
     "execution_count": 12,
     "metadata": {},
     "output_type": "execute_result"
    }
   ],
   "source": [
    "pat='age (\\d+)'\n",
    "matches1=re.findall(pat,text)\n",
    "email=matches1[0]\n",
    "email"
   ]
  },
  {
   "cell_type": "code",
   "execution_count": 13,
   "id": "6c43cef7",
   "metadata": {},
   "outputs": [
    {
     "data": {
      "text/plain": [
       "'Elon Reeve Musk'"
      ]
     },
     "execution_count": 13,
     "metadata": {},
     "output_type": "execute_result"
    }
   ],
   "source": [
    "pat='Born(.*)'\n",
    "matches1=re.findall(pat,text)\n",
    "email=matches1[0].strip()\n",
    "email"
   ]
  },
  {
   "cell_type": "code",
   "execution_count": 14,
   "id": "a0d65d34",
   "metadata": {},
   "outputs": [
    {
     "data": {
      "text/plain": [
       "'June 28, 1971'"
      ]
     },
     "execution_count": 14,
     "metadata": {},
     "output_type": "execute_result"
    }
   ],
   "source": [
    "pat='Born.*\\n(.*)\\(age'\n",
    "matches1=re.findall(pat,text)\n",
    "email=matches1[0].strip()\n",
    "email"
   ]
  },
  {
   "cell_type": "code",
   "execution_count": 15,
   "id": "92daab39",
   "metadata": {},
   "outputs": [
    {
     "data": {
      "text/plain": [
       "'Pretoria, Transvaal, South Africa'"
      ]
     },
     "execution_count": 15,
     "metadata": {},
     "output_type": "execute_result"
    }
   ],
   "source": [
    "pat='\\(age.*\\n(.*)'\n",
    "matches1=re.findall(pat,text)\n",
    "email=matches1[0].strip()\n",
    "email"
   ]
  },
  {
   "cell_type": "code",
   "execution_count": 16,
   "id": "e02ff1a2",
   "metadata": {},
   "outputs": [],
   "source": [
    "def get_pattern_match(pattern,text):\n",
    "    matches=re.findall(pattern,text)\n",
    "    if matches:\n",
    "        return matches[0].strip()"
   ]
  },
  {
   "cell_type": "code",
   "execution_count": 17,
   "id": "512454da",
   "metadata": {},
   "outputs": [
    {
     "data": {
      "text/plain": [
       "'Pretoria, Transvaal, South Africa'"
      ]
     },
     "execution_count": 17,
     "metadata": {},
     "output_type": "execute_result"
    }
   ],
   "source": [
    "get_pattern_match('\\(age.*\\n(.*)',text)"
   ]
  },
  {
   "cell_type": "code",
   "execution_count": 18,
   "id": "76803d24",
   "metadata": {},
   "outputs": [
    {
     "data": {
      "text/plain": [
       "'June 28, 1971'"
      ]
     },
     "execution_count": 18,
     "metadata": {},
     "output_type": "execute_result"
    }
   ],
   "source": [
    "get_pattern_match('Born.*\\n(.*)\\(age',text)"
   ]
  },
  {
   "cell_type": "code",
   "execution_count": 19,
   "id": "4c821f24",
   "metadata": {},
   "outputs": [
    {
     "data": {
      "text/plain": [
       "'Elon Reeve Musk'"
      ]
     },
     "execution_count": 19,
     "metadata": {},
     "output_type": "execute_result"
    }
   ],
   "source": [
    "get_pattern_match('Born(.*)',text)"
   ]
  },
  {
   "cell_type": "code",
   "execution_count": 20,
   "id": "d5284add",
   "metadata": {},
   "outputs": [
    {
     "data": {
      "text/plain": [
       "'51'"
      ]
     },
     "execution_count": 20,
     "metadata": {},
     "output_type": "execute_result"
    }
   ],
   "source": [
    "get_pattern_match('age (\\d+)',text)"
   ]
  },
  {
   "cell_type": "code",
   "execution_count": 21,
   "id": "d4e79a2e",
   "metadata": {},
   "outputs": [],
   "source": [
    "def get_personal_info(text):\n",
    "    full_name=get_pattern_match('Born(.*)',text)\n",
    "    DOB=get_pattern_match('Born.*\\n(.*)\\(age',text)\n",
    "    age=get_pattern_match('age (\\d+)',text)\n",
    "    Place=get_pattern_match('\\(age.*\\n(.*)',text)\n",
    "    \n",
    "    return{\n",
    "        \n",
    "        'Full_Name':full_name,\n",
    "        'DOB':DOB,\n",
    "        'Age':int(age),\n",
    "        'Place':Place\n",
    "    }"
   ]
  },
  {
   "cell_type": "code",
   "execution_count": 22,
   "id": "35d7a165",
   "metadata": {},
   "outputs": [
    {
     "data": {
      "text/plain": [
       "{'Full_Name': 'Elon Reeve Musk',\n",
       " 'DOB': 'June 28, 1971',\n",
       " 'Age': 51,\n",
       " 'Place': 'Pretoria, Transvaal, South Africa'}"
      ]
     },
     "execution_count": 22,
     "metadata": {},
     "output_type": "execute_result"
    }
   ],
   "source": [
    "get_personal_info(text)"
   ]
  },
  {
   "cell_type": "code",
   "execution_count": 23,
   "id": "18373e07",
   "metadata": {},
   "outputs": [],
   "source": [
    "text1=\"\"\"Born\tMukesh Dhirubhai Ambani\n",
    "19 April 1957 (age 65)\n",
    "Aden, Colony of Aden\n",
    "(present-day Yemen)[1][2]\n",
    "Nationality\tIndian\n",
    "Alma mater\t\n",
    "St. Xavier's College, Mumbai\n",
    "Institute of Chemical Technology (B.E.)\n",
    "Stanford University (drop-out)\n",
    "Occupation\tChairman and MD, Reliance Industries\"\"\""
   ]
  },
  {
   "cell_type": "code",
   "execution_count": 24,
   "id": "4d4c98e4",
   "metadata": {},
   "outputs": [
    {
     "data": {
      "text/plain": [
       "{'Full_Name': 'Mukesh Dhirubhai Ambani',\n",
       " 'DOB': '19 April 1957',\n",
       " 'Age': 65,\n",
       " 'Place': 'Aden, Colony of Aden'}"
      ]
     },
     "execution_count": 24,
     "metadata": {},
     "output_type": "execute_result"
    }
   ],
   "source": [
    "get_personal_info(text1)"
   ]
  },
  {
   "cell_type": "code",
   "execution_count": 27,
   "id": "45c60b64",
   "metadata": {},
   "outputs": [
    {
     "data": {
      "text/plain": [
       "['elonmusk', 'teslarati', 'dummy_tesla', 'dummy_2_tesla']"
      ]
     },
     "execution_count": 27,
     "metadata": {},
     "output_type": "execute_result"
    }
   ],
   "source": [
    "text = '''\n",
    "Follow our leader Elon musk on twitter here: https://twitter.com/elonmusk, more information \n",
    "on Tesla's products can be found at https://www.tesla.com/. Also here are leading influencers \n",
    "for tesla related news,\n",
    "https://twitter.com/teslarati\n",
    "https://twitter.com/dummy_tesla\n",
    "https://twitter.com/dummy_2_tesla\n",
    "'''\n",
    "pattern = 'https:\\/\\/twitter\\.com\\/([a-zA-Z0-9_]+)'\n",
    "\n",
    "re.findall(pattern, text)\n"
   ]
  },
  {
   "cell_type": "code",
   "execution_count": 26,
   "id": "0ff672f2",
   "metadata": {},
   "outputs": [
    {
     "data": {
      "text/plain": [
       "['Credit Risk', 'Supply Risk']"
      ]
     },
     "execution_count": 26,
     "metadata": {},
     "output_type": "execute_result"
    }
   ],
   "source": [
    "text = '''\n",
    "Concentration of Risk: Credit Risk\n",
    "Financial instruments that potentially subject us to a concentration of credit risk consist of cash, cash equivalents, marketable securities,\n",
    "restricted cash, accounts receivable, convertible note hedges, and interest rate swaps. Our cash balances are primarily invested in money market funds\n",
    "or on deposit at high credit quality financial institutions in the U.S. These deposits are typically in excess of insured limits. As of September 30, 2021\n",
    "and December 31, 2020, no entity represented 10% or more of our total accounts receivable balance. The risk of concentration for our convertible note\n",
    "hedges and interest rate swaps is mitigated by transacting with several highly-rated multinational banks.\n",
    "Concentration of Risk: Supply Risk\n",
    "We are dependent on our suppliers, including single source suppliers, and the inability of these suppliers to deliver necessary components of our\n",
    "products in a timely manner at prices, quality levels and volumes acceptable to us, or our inability to efficiently manage these components from these\n",
    "suppliers, could have a material adverse effect on our business, prospects, financial condition and operating results.\n",
    "'''\n",
    "pattern = 'Concentration of Risk: (.*)'\n",
    "\n",
    "re.findall(pattern, text)\n"
   ]
  },
  {
   "cell_type": "code",
   "execution_count": null,
   "id": "270bc3dc",
   "metadata": {},
   "outputs": [],
   "source": []
  }
 ],
 "metadata": {
  "kernelspec": {
   "display_name": "Python 3 (ipykernel)",
   "language": "python",
   "name": "python3"
  },
  "language_info": {
   "codemirror_mode": {
    "name": "ipython",
    "version": 3
   },
   "file_extension": ".py",
   "mimetype": "text/x-python",
   "name": "python",
   "nbconvert_exporter": "python",
   "pygments_lexer": "ipython3",
   "version": "3.9.12"
  }
 },
 "nbformat": 4,
 "nbformat_minor": 5
}
